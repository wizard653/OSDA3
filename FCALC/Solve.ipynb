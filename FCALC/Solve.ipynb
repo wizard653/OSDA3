{
 "cells": [
  {
   "cell_type": "code",
   "execution_count": 262,
   "metadata": {
    "tags": []
   },
   "outputs": [],
   "source": [
    "import fcalc\n",
    "import pandas as pd\n",
    "import numpy as np\n",
    "from sklearn.model_selection import train_test_split\n",
    "from sklearn.metrics import accuracy_score, f1_score\n",
    "from sklearn.preprocessing import LabelEncoder\n"
   ]
  },
  {
   "cell_type": "markdown",
   "metadata": {},
   "source": [
    "# Binarized data"
   ]
  },
  {
   "cell_type": "code",
   "execution_count": 12,
   "metadata": {
    "tags": []
   },
   "outputs": [
    {
     "data": {
      "text/html": [
       "<div>\n",
       "<style scoped>\n",
       "    .dataframe tbody tr th:only-of-type {\n",
       "        vertical-align: middle;\n",
       "    }\n",
       "\n",
       "    .dataframe tbody tr th {\n",
       "        vertical-align: top;\n",
       "    }\n",
       "\n",
       "    .dataframe thead th {\n",
       "        text-align: right;\n",
       "    }\n",
       "</style>\n",
       "<table border=\"1\" class=\"dataframe\">\n",
       "  <thead>\n",
       "    <tr style=\"text-align: right;\">\n",
       "      <th></th>\n",
       "      <th>top-left-square</th>\n",
       "      <th>top-middle-square</th>\n",
       "      <th>top-right-square</th>\n",
       "      <th>middle-left-square</th>\n",
       "      <th>middle-middle-square</th>\n",
       "      <th>middle-right-square</th>\n",
       "      <th>bottom-left-square</th>\n",
       "      <th>bottom-middle-square</th>\n",
       "      <th>bottom-right-square</th>\n",
       "      <th>Class</th>\n",
       "    </tr>\n",
       "  </thead>\n",
       "  <tbody>\n",
       "    <tr>\n",
       "      <th>0</th>\n",
       "      <td>x</td>\n",
       "      <td>x</td>\n",
       "      <td>x</td>\n",
       "      <td>x</td>\n",
       "      <td>o</td>\n",
       "      <td>o</td>\n",
       "      <td>x</td>\n",
       "      <td>o</td>\n",
       "      <td>o</td>\n",
       "      <td>True</td>\n",
       "    </tr>\n",
       "    <tr>\n",
       "      <th>1</th>\n",
       "      <td>x</td>\n",
       "      <td>x</td>\n",
       "      <td>x</td>\n",
       "      <td>x</td>\n",
       "      <td>o</td>\n",
       "      <td>o</td>\n",
       "      <td>o</td>\n",
       "      <td>x</td>\n",
       "      <td>o</td>\n",
       "      <td>True</td>\n",
       "    </tr>\n",
       "    <tr>\n",
       "      <th>2</th>\n",
       "      <td>x</td>\n",
       "      <td>x</td>\n",
       "      <td>x</td>\n",
       "      <td>x</td>\n",
       "      <td>o</td>\n",
       "      <td>o</td>\n",
       "      <td>o</td>\n",
       "      <td>o</td>\n",
       "      <td>x</td>\n",
       "      <td>True</td>\n",
       "    </tr>\n",
       "    <tr>\n",
       "      <th>3</th>\n",
       "      <td>x</td>\n",
       "      <td>x</td>\n",
       "      <td>x</td>\n",
       "      <td>x</td>\n",
       "      <td>o</td>\n",
       "      <td>o</td>\n",
       "      <td>o</td>\n",
       "      <td>b</td>\n",
       "      <td>b</td>\n",
       "      <td>True</td>\n",
       "    </tr>\n",
       "    <tr>\n",
       "      <th>4</th>\n",
       "      <td>x</td>\n",
       "      <td>x</td>\n",
       "      <td>x</td>\n",
       "      <td>x</td>\n",
       "      <td>o</td>\n",
       "      <td>o</td>\n",
       "      <td>b</td>\n",
       "      <td>o</td>\n",
       "      <td>b</td>\n",
       "      <td>True</td>\n",
       "    </tr>\n",
       "  </tbody>\n",
       "</table>\n",
       "</div>"
      ],
      "text/plain": [
       "  top-left-square top-middle-square top-right-square middle-left-square  \\\n",
       "0               x                 x                x                  x   \n",
       "1               x                 x                x                  x   \n",
       "2               x                 x                x                  x   \n",
       "3               x                 x                x                  x   \n",
       "4               x                 x                x                  x   \n",
       "\n",
       "  middle-middle-square middle-right-square bottom-left-square  \\\n",
       "0                    o                   o                  x   \n",
       "1                    o                   o                  o   \n",
       "2                    o                   o                  o   \n",
       "3                    o                   o                  o   \n",
       "4                    o                   o                  b   \n",
       "\n",
       "  bottom-middle-square bottom-right-square  Class  \n",
       "0                    o                   o   True  \n",
       "1                    x                   o   True  \n",
       "2                    o                   x   True  \n",
       "3                    b                   b   True  \n",
       "4                    o                   b   True  "
      ]
     },
     "execution_count": 12,
     "metadata": {},
     "output_type": "execute_result"
    }
   ],
   "source": [
    "column_names = [\n",
    "        'top-left-square', 'top-middle-square', 'top-right-square',\n",
    "        'middle-left-square', 'middle-middle-square', 'middle-right-square',\n",
    "        'bottom-left-square', 'bottom-middle-square', 'bottom-right-square',\n",
    "        'Class'\n",
    "    ]\n",
    "df = pd.read_csv('data_sets/tic-tac-toe.data', names = column_names)\n",
    "df['Class'] = [x == 'positive' for x in df['Class']]\n",
    "df.head()"
   ]
  },
  {
   "cell_type": "code",
   "execution_count": 13,
   "metadata": {
    "tags": []
   },
   "outputs": [],
   "source": [
    "X = pd.get_dummies(df[column_names[:-1]], prefix=column_names[:-1]).astype(bool)\n",
    "y = df['Class']\n",
    "X_train, X_test, y_train, y_test = train_test_split(X, y, test_size=0.3, random_state=42)\n"
   ]
  },
  {
   "cell_type": "code",
   "execution_count": 14,
   "metadata": {
    "tags": []
   },
   "outputs": [],
   "source": [
    "bin_cls = fcalc.classifier.BinarizedBinaryClassifier(X_train.values, y_train.to_numpy(), method=\"standard-support\")"
   ]
  },
  {
   "cell_type": "code",
   "execution_count": 15,
   "metadata": {
    "tags": []
   },
   "outputs": [],
   "source": [
    "bin_cls.predict(X_test.values)"
   ]
  },
  {
   "cell_type": "code",
   "execution_count": 16,
   "metadata": {
    "tags": []
   },
   "outputs": [
    {
     "name": "stdout",
     "output_type": "stream",
     "text": [
      "0.9965277777777778\n",
      "0.9974160206718347\n"
     ]
    }
   ],
   "source": [
    "from sklearn.metrics import accuracy_score, f1_score\n",
    "\n",
    "print(accuracy_score(y_test, bin_cls.predictions))\n",
    "print(f1_score(y_test, bin_cls.predictions))"
   ]
  },
  {
   "cell_type": "code",
   "execution_count": 74,
   "metadata": {
    "tags": []
   },
   "outputs": [],
   "source": [
    "X = df.iloc[:,:-1]\n",
    "y = df['deposit_yes']\n",
    "X_train, X_test, y_train, y_test = train_test_split(X, y, test_size=0.3, random_state=42)"
   ]
  },
  {
   "cell_type": "code",
   "execution_count": 75,
   "metadata": {
    "tags": []
   },
   "outputs": [],
   "source": [
    "pat_cls = fcalc.classifier.BinarizedBinaryClassifier(X_train.values, y_train.to_numpy())"
   ]
  },
  {
   "cell_type": "code",
   "execution_count": 76,
   "metadata": {
    "tags": []
   },
   "outputs": [],
   "source": [
    "pat_cls.predict(X_test.values)"
   ]
  },
  {
   "cell_type": "code",
   "execution_count": 77,
   "metadata": {
    "tags": []
   },
   "outputs": [
    {
     "name": "stdout",
     "output_type": "stream",
     "text": [
      "0.8222222222222222\n",
      "0.8181818181818181\n"
     ]
    }
   ],
   "source": [
    "from sklearn.metrics import accuracy_score, f1_score\n",
    "\n",
    "print(accuracy_score(y_test, pat_cls.predictions))\n",
    "print(f1_score(y_test, pat_cls.predictions))"
   ]
  },
  {
   "cell_type": "markdown",
   "metadata": {},
   "source": [
    "# BinarizedClassifier"
   ]
  },
  {
   "cell_type": "markdown",
   "metadata": {},
   "source": [
    "## Bank "
   ]
  },
  {
   "cell_type": "code",
   "execution_count": 352,
   "metadata": {
    "tags": []
   },
   "outputs": [],
   "source": [
    "df = pd.read_csv('data_sets/bank.csv')"
   ]
  },
  {
   "cell_type": "code",
   "execution_count": 353,
   "metadata": {
    "tags": []
   },
   "outputs": [
    {
     "data": {
      "text/plain": [
       "{'job': array(['admin.', 'technician', 'services', 'management', 'retired',\n",
       "        'blue-collar', 'unemployed', 'entrepreneur', 'housemaid',\n",
       "        'unknown', 'self-employed', 'student'], dtype=object),\n",
       " 'marital': array(['married', 'single', 'divorced'], dtype=object),\n",
       " 'education': array(['secondary', 'tertiary', 'primary', 'unknown'], dtype=object),\n",
       " 'default': array(['no', 'yes'], dtype=object),\n",
       " 'housing': array(['yes', 'no'], dtype=object),\n",
       " 'loan': array(['no', 'yes'], dtype=object),\n",
       " 'contact': array(['unknown', 'cellular', 'telephone'], dtype=object),\n",
       " 'month': array(['may', 'jun', 'jul', 'aug', 'oct', 'nov', 'dec', 'jan', 'feb',\n",
       "        'mar', 'apr', 'sep'], dtype=object),\n",
       " 'poutcome': array(['unknown', 'other', 'failure', 'success'], dtype=object),\n",
       " 'deposit': array(['yes', 'no'], dtype=object)}"
      ]
     },
     "execution_count": 353,
     "metadata": {},
     "output_type": "execute_result"
    }
   ],
   "source": [
    "categorical_columns = ['job', 'marital', 'education', 'default', 'housing', 'loan', 'contact', 'month', 'poutcome', 'deposit']\n",
    "unique_values = {column: df[column].unique() for column in categorical_columns}\n",
    "unique_values"
   ]
  },
  {
   "cell_type": "code",
   "execution_count": 354,
   "metadata": {
    "tags": []
   },
   "outputs": [
    {
     "data": {
      "text/html": [
       "<div>\n",
       "<style scoped>\n",
       "    .dataframe tbody tr th:only-of-type {\n",
       "        vertical-align: middle;\n",
       "    }\n",
       "\n",
       "    .dataframe tbody tr th {\n",
       "        vertical-align: top;\n",
       "    }\n",
       "\n",
       "    .dataframe thead th {\n",
       "        text-align: right;\n",
       "    }\n",
       "</style>\n",
       "<table border=\"1\" class=\"dataframe\">\n",
       "  <thead>\n",
       "    <tr style=\"text-align: right;\">\n",
       "      <th></th>\n",
       "      <th>age</th>\n",
       "      <th>balance</th>\n",
       "      <th>day</th>\n",
       "      <th>duration</th>\n",
       "      <th>campaign</th>\n",
       "      <th>pdays</th>\n",
       "      <th>previous</th>\n",
       "    </tr>\n",
       "  </thead>\n",
       "  <tbody>\n",
       "    <tr>\n",
       "      <th>count</th>\n",
       "      <td>11162.000000</td>\n",
       "      <td>11162.000000</td>\n",
       "      <td>11162.000000</td>\n",
       "      <td>11162.000000</td>\n",
       "      <td>11162.000000</td>\n",
       "      <td>11162.000000</td>\n",
       "      <td>11162.000000</td>\n",
       "    </tr>\n",
       "    <tr>\n",
       "      <th>mean</th>\n",
       "      <td>41.231948</td>\n",
       "      <td>1528.538524</td>\n",
       "      <td>15.658036</td>\n",
       "      <td>371.993818</td>\n",
       "      <td>2.508421</td>\n",
       "      <td>51.330407</td>\n",
       "      <td>0.832557</td>\n",
       "    </tr>\n",
       "    <tr>\n",
       "      <th>std</th>\n",
       "      <td>11.913369</td>\n",
       "      <td>3225.413326</td>\n",
       "      <td>8.420740</td>\n",
       "      <td>347.128386</td>\n",
       "      <td>2.722077</td>\n",
       "      <td>108.758282</td>\n",
       "      <td>2.292007</td>\n",
       "    </tr>\n",
       "    <tr>\n",
       "      <th>min</th>\n",
       "      <td>18.000000</td>\n",
       "      <td>-6847.000000</td>\n",
       "      <td>1.000000</td>\n",
       "      <td>2.000000</td>\n",
       "      <td>1.000000</td>\n",
       "      <td>-1.000000</td>\n",
       "      <td>0.000000</td>\n",
       "    </tr>\n",
       "    <tr>\n",
       "      <th>25%</th>\n",
       "      <td>32.000000</td>\n",
       "      <td>122.000000</td>\n",
       "      <td>8.000000</td>\n",
       "      <td>138.000000</td>\n",
       "      <td>1.000000</td>\n",
       "      <td>-1.000000</td>\n",
       "      <td>0.000000</td>\n",
       "    </tr>\n",
       "    <tr>\n",
       "      <th>50%</th>\n",
       "      <td>39.000000</td>\n",
       "      <td>550.000000</td>\n",
       "      <td>15.000000</td>\n",
       "      <td>255.000000</td>\n",
       "      <td>2.000000</td>\n",
       "      <td>-1.000000</td>\n",
       "      <td>0.000000</td>\n",
       "    </tr>\n",
       "    <tr>\n",
       "      <th>75%</th>\n",
       "      <td>49.000000</td>\n",
       "      <td>1708.000000</td>\n",
       "      <td>22.000000</td>\n",
       "      <td>496.000000</td>\n",
       "      <td>3.000000</td>\n",
       "      <td>20.750000</td>\n",
       "      <td>1.000000</td>\n",
       "    </tr>\n",
       "    <tr>\n",
       "      <th>max</th>\n",
       "      <td>95.000000</td>\n",
       "      <td>81204.000000</td>\n",
       "      <td>31.000000</td>\n",
       "      <td>3881.000000</td>\n",
       "      <td>63.000000</td>\n",
       "      <td>854.000000</td>\n",
       "      <td>58.000000</td>\n",
       "    </tr>\n",
       "  </tbody>\n",
       "</table>\n",
       "</div>"
      ],
      "text/plain": [
       "                age       balance           day      duration      campaign  \\\n",
       "count  11162.000000  11162.000000  11162.000000  11162.000000  11162.000000   \n",
       "mean      41.231948   1528.538524     15.658036    371.993818      2.508421   \n",
       "std       11.913369   3225.413326      8.420740    347.128386      2.722077   \n",
       "min       18.000000  -6847.000000      1.000000      2.000000      1.000000   \n",
       "25%       32.000000    122.000000      8.000000    138.000000      1.000000   \n",
       "50%       39.000000    550.000000     15.000000    255.000000      2.000000   \n",
       "75%       49.000000   1708.000000     22.000000    496.000000      3.000000   \n",
       "max       95.000000  81204.000000     31.000000   3881.000000     63.000000   \n",
       "\n",
       "              pdays      previous  \n",
       "count  11162.000000  11162.000000  \n",
       "mean      51.330407      0.832557  \n",
       "std      108.758282      2.292007  \n",
       "min       -1.000000      0.000000  \n",
       "25%       -1.000000      0.000000  \n",
       "50%       -1.000000      0.000000  \n",
       "75%       20.750000      1.000000  \n",
       "max      854.000000     58.000000  "
      ]
     },
     "execution_count": 354,
     "metadata": {},
     "output_type": "execute_result"
    }
   ],
   "source": [
    "numerical_columns = ['age', 'balance', 'day', 'duration', 'campaign', 'pdays', 'previous']\n",
    "numerical_stats = df[numerical_columns].describe()\n",
    "numerical_stats"
   ]
  },
  {
   "cell_type": "code",
   "execution_count": 355,
   "metadata": {
    "tags": []
   },
   "outputs": [
    {
     "data": {
      "text/html": [
       "<div>\n",
       "<style scoped>\n",
       "    .dataframe tbody tr th:only-of-type {\n",
       "        vertical-align: middle;\n",
       "    }\n",
       "\n",
       "    .dataframe tbody tr th {\n",
       "        vertical-align: top;\n",
       "    }\n",
       "\n",
       "    .dataframe thead th {\n",
       "        text-align: right;\n",
       "    }\n",
       "</style>\n",
       "<table border=\"1\" class=\"dataframe\">\n",
       "  <thead>\n",
       "    <tr style=\"text-align: right;\">\n",
       "      <th></th>\n",
       "      <th>job</th>\n",
       "      <th>marital</th>\n",
       "      <th>education</th>\n",
       "      <th>default</th>\n",
       "      <th>housing</th>\n",
       "      <th>loan</th>\n",
       "      <th>contact</th>\n",
       "      <th>month</th>\n",
       "      <th>poutcome</th>\n",
       "      <th>deposit</th>\n",
       "      <th>...</th>\n",
       "      <th>campaign_1-2</th>\n",
       "      <th>campaign_3-4</th>\n",
       "      <th>campaign_5+</th>\n",
       "      <th>pdays_not_contacted</th>\n",
       "      <th>pdays_0-100</th>\n",
       "      <th>pdays_101-200</th>\n",
       "      <th>pdays_201+</th>\n",
       "      <th>previous_0</th>\n",
       "      <th>previous_1-2</th>\n",
       "      <th>previous_3+</th>\n",
       "    </tr>\n",
       "  </thead>\n",
       "  <tbody>\n",
       "    <tr>\n",
       "      <th>0</th>\n",
       "      <td>admin.</td>\n",
       "      <td>married</td>\n",
       "      <td>secondary</td>\n",
       "      <td>no</td>\n",
       "      <td>yes</td>\n",
       "      <td>no</td>\n",
       "      <td>unknown</td>\n",
       "      <td>may</td>\n",
       "      <td>unknown</td>\n",
       "      <td>yes</td>\n",
       "      <td>...</td>\n",
       "      <td>True</td>\n",
       "      <td>False</td>\n",
       "      <td>False</td>\n",
       "      <td>True</td>\n",
       "      <td>False</td>\n",
       "      <td>False</td>\n",
       "      <td>False</td>\n",
       "      <td>True</td>\n",
       "      <td>False</td>\n",
       "      <td>False</td>\n",
       "    </tr>\n",
       "    <tr>\n",
       "      <th>1</th>\n",
       "      <td>admin.</td>\n",
       "      <td>married</td>\n",
       "      <td>secondary</td>\n",
       "      <td>no</td>\n",
       "      <td>no</td>\n",
       "      <td>no</td>\n",
       "      <td>unknown</td>\n",
       "      <td>may</td>\n",
       "      <td>unknown</td>\n",
       "      <td>yes</td>\n",
       "      <td>...</td>\n",
       "      <td>True</td>\n",
       "      <td>False</td>\n",
       "      <td>False</td>\n",
       "      <td>True</td>\n",
       "      <td>False</td>\n",
       "      <td>False</td>\n",
       "      <td>False</td>\n",
       "      <td>True</td>\n",
       "      <td>False</td>\n",
       "      <td>False</td>\n",
       "    </tr>\n",
       "    <tr>\n",
       "      <th>2</th>\n",
       "      <td>technician</td>\n",
       "      <td>married</td>\n",
       "      <td>secondary</td>\n",
       "      <td>no</td>\n",
       "      <td>yes</td>\n",
       "      <td>no</td>\n",
       "      <td>unknown</td>\n",
       "      <td>may</td>\n",
       "      <td>unknown</td>\n",
       "      <td>yes</td>\n",
       "      <td>...</td>\n",
       "      <td>True</td>\n",
       "      <td>False</td>\n",
       "      <td>False</td>\n",
       "      <td>True</td>\n",
       "      <td>False</td>\n",
       "      <td>False</td>\n",
       "      <td>False</td>\n",
       "      <td>True</td>\n",
       "      <td>False</td>\n",
       "      <td>False</td>\n",
       "    </tr>\n",
       "    <tr>\n",
       "      <th>3</th>\n",
       "      <td>services</td>\n",
       "      <td>married</td>\n",
       "      <td>secondary</td>\n",
       "      <td>no</td>\n",
       "      <td>yes</td>\n",
       "      <td>no</td>\n",
       "      <td>unknown</td>\n",
       "      <td>may</td>\n",
       "      <td>unknown</td>\n",
       "      <td>yes</td>\n",
       "      <td>...</td>\n",
       "      <td>True</td>\n",
       "      <td>False</td>\n",
       "      <td>False</td>\n",
       "      <td>True</td>\n",
       "      <td>False</td>\n",
       "      <td>False</td>\n",
       "      <td>False</td>\n",
       "      <td>True</td>\n",
       "      <td>False</td>\n",
       "      <td>False</td>\n",
       "    </tr>\n",
       "    <tr>\n",
       "      <th>4</th>\n",
       "      <td>admin.</td>\n",
       "      <td>married</td>\n",
       "      <td>tertiary</td>\n",
       "      <td>no</td>\n",
       "      <td>no</td>\n",
       "      <td>no</td>\n",
       "      <td>unknown</td>\n",
       "      <td>may</td>\n",
       "      <td>unknown</td>\n",
       "      <td>yes</td>\n",
       "      <td>...</td>\n",
       "      <td>True</td>\n",
       "      <td>False</td>\n",
       "      <td>False</td>\n",
       "      <td>True</td>\n",
       "      <td>False</td>\n",
       "      <td>False</td>\n",
       "      <td>False</td>\n",
       "      <td>True</td>\n",
       "      <td>False</td>\n",
       "      <td>False</td>\n",
       "    </tr>\n",
       "  </tbody>\n",
       "</table>\n",
       "<p>5 rows × 38 columns</p>\n",
       "</div>"
      ],
      "text/plain": [
       "          job  marital  education default housing loan  contact month  \\\n",
       "0      admin.  married  secondary      no     yes   no  unknown   may   \n",
       "1      admin.  married  secondary      no      no   no  unknown   may   \n",
       "2  technician  married  secondary      no     yes   no  unknown   may   \n",
       "3    services  married  secondary      no     yes   no  unknown   may   \n",
       "4      admin.  married   tertiary      no      no   no  unknown   may   \n",
       "\n",
       "  poutcome deposit  ...  campaign_1-2  campaign_3-4  campaign_5+  \\\n",
       "0  unknown     yes  ...          True         False        False   \n",
       "1  unknown     yes  ...          True         False        False   \n",
       "2  unknown     yes  ...          True         False        False   \n",
       "3  unknown     yes  ...          True         False        False   \n",
       "4  unknown     yes  ...          True         False        False   \n",
       "\n",
       "   pdays_not_contacted  pdays_0-100  pdays_101-200  pdays_201+  previous_0  \\\n",
       "0                 True        False          False       False        True   \n",
       "1                 True        False          False       False        True   \n",
       "2                 True        False          False       False        True   \n",
       "3                 True        False          False       False        True   \n",
       "4                 True        False          False       False        True   \n",
       "\n",
       "   previous_1-2  previous_3+  \n",
       "0         False        False  \n",
       "1         False        False  \n",
       "2         False        False  \n",
       "3         False        False  \n",
       "4         False        False  \n",
       "\n",
       "[5 rows x 38 columns]"
      ]
     },
     "execution_count": 355,
     "metadata": {},
     "output_type": "execute_result"
    }
   ],
   "source": [
    "def bin_numerical_data(data, column, bins, labels):\n",
    "    data[column] = pd.cut(data[column], bins=bins, labels=labels, right=False)\n",
    "    return pd.get_dummies(data, columns=[column])\n",
    "\n",
    "# Определение диапазонов и меток для каждой числовой переменной\n",
    "age_bins = [18, 31, 41, 51, 61, 96]\n",
    "age_labels = ['18-30', '31-40', '41-50', '51-60', '61+']\n",
    "\n",
    "balance_bins = [-float('inf'), 0, 1001, 3001, 5001, float('inf')]\n",
    "balance_labels = ['negative', '0-1000', '1001-3000', '3001-5000', '5001+']\n",
    "\n",
    "day_bins = [1, 11, 21, 32]\n",
    "day_labels = ['1-10', '11-20', '21-31']\n",
    "\n",
    "duration_bins = [0, 101, 201, 301, 401, float('inf')]\n",
    "duration_labels = ['0-100', '101-200', '201-300', '301-400', '401+']\n",
    "\n",
    "campaign_bins = [1, 3, 5, float('inf')]\n",
    "campaign_labels = ['1-2', '3-4', '5+']\n",
    "\n",
    "pdays_bins = [-float('inf'), 0, 101, 201, float('inf')]\n",
    "pdays_labels = ['not_contacted', '0-100', '101-200', '201+']\n",
    "\n",
    "previous_bins = [0, 1, 3, float('inf')]\n",
    "previous_labels = ['0', '1-2', '3+']\n",
    "for column, bins, labels in zip(numerical_columns, \n",
    "                                [age_bins, balance_bins, day_bins, duration_bins, campaign_bins, pdays_bins, previous_bins], \n",
    "                                [age_labels, balance_labels, day_labels, duration_labels, campaign_labels, pdays_labels, previous_labels]):\n",
    "    df = bin_numerical_data(df, column, bins, labels)\n",
    "df.head()"
   ]
  },
  {
   "cell_type": "code",
   "execution_count": 356,
   "metadata": {
    "tags": []
   },
   "outputs": [
    {
     "data": {
      "text/html": [
       "<div>\n",
       "<style scoped>\n",
       "    .dataframe tbody tr th:only-of-type {\n",
       "        vertical-align: middle;\n",
       "    }\n",
       "\n",
       "    .dataframe tbody tr th {\n",
       "        vertical-align: top;\n",
       "    }\n",
       "\n",
       "    .dataframe thead th {\n",
       "        text-align: right;\n",
       "    }\n",
       "</style>\n",
       "<table border=\"1\" class=\"dataframe\">\n",
       "  <thead>\n",
       "    <tr style=\"text-align: right;\">\n",
       "      <th></th>\n",
       "      <th>age_18-30</th>\n",
       "      <th>age_31-40</th>\n",
       "      <th>age_41-50</th>\n",
       "      <th>age_51-60</th>\n",
       "      <th>age_61+</th>\n",
       "      <th>balance_negative</th>\n",
       "      <th>balance_0-1000</th>\n",
       "      <th>balance_1001-3000</th>\n",
       "      <th>balance_3001-5000</th>\n",
       "      <th>balance_5001+</th>\n",
       "      <th>...</th>\n",
       "      <th>month_may</th>\n",
       "      <th>month_nov</th>\n",
       "      <th>month_oct</th>\n",
       "      <th>month_sep</th>\n",
       "      <th>poutcome_failure</th>\n",
       "      <th>poutcome_other</th>\n",
       "      <th>poutcome_success</th>\n",
       "      <th>poutcome_unknown</th>\n",
       "      <th>deposit_no</th>\n",
       "      <th>deposit_yes</th>\n",
       "    </tr>\n",
       "  </thead>\n",
       "  <tbody>\n",
       "    <tr>\n",
       "      <th>0</th>\n",
       "      <td>False</td>\n",
       "      <td>False</td>\n",
       "      <td>False</td>\n",
       "      <td>True</td>\n",
       "      <td>False</td>\n",
       "      <td>False</td>\n",
       "      <td>False</td>\n",
       "      <td>True</td>\n",
       "      <td>False</td>\n",
       "      <td>False</td>\n",
       "      <td>...</td>\n",
       "      <td>True</td>\n",
       "      <td>False</td>\n",
       "      <td>False</td>\n",
       "      <td>False</td>\n",
       "      <td>False</td>\n",
       "      <td>False</td>\n",
       "      <td>False</td>\n",
       "      <td>True</td>\n",
       "      <td>False</td>\n",
       "      <td>True</td>\n",
       "    </tr>\n",
       "    <tr>\n",
       "      <th>1</th>\n",
       "      <td>False</td>\n",
       "      <td>False</td>\n",
       "      <td>False</td>\n",
       "      <td>True</td>\n",
       "      <td>False</td>\n",
       "      <td>False</td>\n",
       "      <td>True</td>\n",
       "      <td>False</td>\n",
       "      <td>False</td>\n",
       "      <td>False</td>\n",
       "      <td>...</td>\n",
       "      <td>True</td>\n",
       "      <td>False</td>\n",
       "      <td>False</td>\n",
       "      <td>False</td>\n",
       "      <td>False</td>\n",
       "      <td>False</td>\n",
       "      <td>False</td>\n",
       "      <td>True</td>\n",
       "      <td>False</td>\n",
       "      <td>True</td>\n",
       "    </tr>\n",
       "    <tr>\n",
       "      <th>2</th>\n",
       "      <td>False</td>\n",
       "      <td>False</td>\n",
       "      <td>True</td>\n",
       "      <td>False</td>\n",
       "      <td>False</td>\n",
       "      <td>False</td>\n",
       "      <td>False</td>\n",
       "      <td>True</td>\n",
       "      <td>False</td>\n",
       "      <td>False</td>\n",
       "      <td>...</td>\n",
       "      <td>True</td>\n",
       "      <td>False</td>\n",
       "      <td>False</td>\n",
       "      <td>False</td>\n",
       "      <td>False</td>\n",
       "      <td>False</td>\n",
       "      <td>False</td>\n",
       "      <td>True</td>\n",
       "      <td>False</td>\n",
       "      <td>True</td>\n",
       "    </tr>\n",
       "    <tr>\n",
       "      <th>3</th>\n",
       "      <td>False</td>\n",
       "      <td>False</td>\n",
       "      <td>False</td>\n",
       "      <td>True</td>\n",
       "      <td>False</td>\n",
       "      <td>False</td>\n",
       "      <td>False</td>\n",
       "      <td>True</td>\n",
       "      <td>False</td>\n",
       "      <td>False</td>\n",
       "      <td>...</td>\n",
       "      <td>True</td>\n",
       "      <td>False</td>\n",
       "      <td>False</td>\n",
       "      <td>False</td>\n",
       "      <td>False</td>\n",
       "      <td>False</td>\n",
       "      <td>False</td>\n",
       "      <td>True</td>\n",
       "      <td>False</td>\n",
       "      <td>True</td>\n",
       "    </tr>\n",
       "    <tr>\n",
       "      <th>4</th>\n",
       "      <td>False</td>\n",
       "      <td>False</td>\n",
       "      <td>False</td>\n",
       "      <td>True</td>\n",
       "      <td>False</td>\n",
       "      <td>False</td>\n",
       "      <td>True</td>\n",
       "      <td>False</td>\n",
       "      <td>False</td>\n",
       "      <td>False</td>\n",
       "      <td>...</td>\n",
       "      <td>True</td>\n",
       "      <td>False</td>\n",
       "      <td>False</td>\n",
       "      <td>False</td>\n",
       "      <td>False</td>\n",
       "      <td>False</td>\n",
       "      <td>False</td>\n",
       "      <td>True</td>\n",
       "      <td>False</td>\n",
       "      <td>True</td>\n",
       "    </tr>\n",
       "  </tbody>\n",
       "</table>\n",
       "<p>5 rows × 74 columns</p>\n",
       "</div>"
      ],
      "text/plain": [
       "   age_18-30  age_31-40  age_41-50  age_51-60  age_61+  balance_negative  \\\n",
       "0      False      False      False       True    False             False   \n",
       "1      False      False      False       True    False             False   \n",
       "2      False      False       True      False    False             False   \n",
       "3      False      False      False       True    False             False   \n",
       "4      False      False      False       True    False             False   \n",
       "\n",
       "   balance_0-1000  balance_1001-3000  balance_3001-5000  balance_5001+  ...  \\\n",
       "0           False               True              False          False  ...   \n",
       "1            True              False              False          False  ...   \n",
       "2           False               True              False          False  ...   \n",
       "3           False               True              False          False  ...   \n",
       "4            True              False              False          False  ...   \n",
       "\n",
       "   month_may  month_nov  month_oct  month_sep  poutcome_failure  \\\n",
       "0       True      False      False      False             False   \n",
       "1       True      False      False      False             False   \n",
       "2       True      False      False      False             False   \n",
       "3       True      False      False      False             False   \n",
       "4       True      False      False      False             False   \n",
       "\n",
       "   poutcome_other  poutcome_success  poutcome_unknown  deposit_no  deposit_yes  \n",
       "0           False             False              True       False         True  \n",
       "1           False             False              True       False         True  \n",
       "2           False             False              True       False         True  \n",
       "3           False             False              True       False         True  \n",
       "4           False             False              True       False         True  \n",
       "\n",
       "[5 rows x 74 columns]"
      ]
     },
     "execution_count": 356,
     "metadata": {},
     "output_type": "execute_result"
    }
   ],
   "source": [
    "df = pd.get_dummies(df, columns=categorical_columns)\n",
    "df.head()"
   ]
  },
  {
   "cell_type": "code",
   "execution_count": 357,
   "metadata": {
    "tags": []
   },
   "outputs": [],
   "source": [
    "df = df.sample(150)"
   ]
  },
  {
   "cell_type": "code",
   "execution_count": 358,
   "metadata": {
    "tags": []
   },
   "outputs": [],
   "source": [
    "X = df.iloc[:,:-1]\n",
    "y = df['deposit_yes']\n",
    "X_train, X_test, y_train, y_test = train_test_split(X, y, test_size=0.3, random_state=42)"
   ]
  },
  {
   "cell_type": "code",
   "execution_count": 359,
   "metadata": {
    "tags": []
   },
   "outputs": [],
   "source": [
    "pat_cls = fcalc.classifier.BinarizedBinaryClassifier(X_train.values, y_train.to_numpy())"
   ]
  },
  {
   "cell_type": "code",
   "execution_count": 360,
   "metadata": {
    "tags": []
   },
   "outputs": [],
   "source": [
    "pat_cls.predict(X_test.values)"
   ]
  },
  {
   "cell_type": "code",
   "execution_count": 361,
   "metadata": {
    "tags": []
   },
   "outputs": [
    {
     "name": "stdout",
     "output_type": "stream",
     "text": [
      "0.9111111111111111\n",
      "0.8823529411764706\n"
     ]
    }
   ],
   "source": [
    "from sklearn.metrics import accuracy_score, f1_score\n",
    "\n",
    "print(accuracy_score(y_test, pat_cls.predictions))\n",
    "print(f1_score(y_test, pat_cls.predictions))"
   ]
  },
  {
   "cell_type": "code",
   "execution_count": 362,
   "metadata": {
    "tags": []
   },
   "outputs": [
    {
     "name": "stdout",
     "output_type": "stream",
     "text": [
      "Alpha: 0.1, Method: standard, Average Accuracy: 0.9066666666666666\n",
      "Alpha: 0.1, Method: standard-support, Average Accuracy: 0.9333333333333333\n",
      "Alpha: 0.1, Method: ratio-support, Average Accuracy: 0.9666666666666666\n",
      "Alpha: 0.2, Method: standard, Average Accuracy: 0.9199999999999999\n",
      "Alpha: 0.2, Method: standard-support, Average Accuracy: 0.8933333333333333\n",
      "Alpha: 0.2, Method: ratio-support, Average Accuracy: 0.9666666666666666\n",
      "Alpha: 0.3, Method: standard, Average Accuracy: 0.8866666666666667\n",
      "Alpha: 0.3, Method: standard-support, Average Accuracy: 0.7\n",
      "Alpha: 0.3, Method: ratio-support, Average Accuracy: 0.96\n"
     ]
    }
   ],
   "source": [
    "def cross_validation_fca(model_class, context, labels, k=5, alphas=[0.], methods=['standard']):\n",
    "    kf = KFold(n_splits=k)\n",
    "    results = []\n",
    "\n",
    "    for alpha in alphas:\n",
    "        for method in methods:\n",
    "            accuracies = []\n",
    "            for train_index, test_index in kf.split(context):\n",
    "                X_train, X_test = context[train_index], context[test_index]\n",
    "                y_train, y_test = labels[train_index], labels[test_index]\n",
    "                model = model_class(X_train, y_train, alpha=alpha, method=method)\n",
    "                model.predict(X_test) \n",
    "                predictions = model.predictions  \n",
    "                accuracy = np.mean(predictions == y_test)\n",
    "                accuracies.append(accuracy)\n",
    "            results.append({'alpha': alpha, 'method': method, 'accuracies': accuracies, 'average_accuracy': np.mean(accuracies)})\n",
    "\n",
    "    return results\n",
    "\n",
    "# Example usage:\n",
    "results = cross_validation_fca(\n",
    "    model_class=fcalc.classifier.BinarizedBinaryClassifier, \n",
    "    context=X.values, \n",
    "    labels=y.to_numpy(), \n",
    "    k=5, \n",
    "    alphas=[0.1, 0.2, 0.3], \n",
    "    methods=['standard', 'standard-support', 'ratio-support']\n",
    ")\n",
    "\n",
    "for result in results:\n",
    "    print(f\"Alpha: {result['alpha']}, Method: {result['method']}, Average Accuracy: {result['average_accuracy']}\")\n"
   ]
  },
  {
   "cell_type": "markdown",
   "metadata": {},
   "source": [
    "## Winequality"
   ]
  },
  {
   "cell_type": "code",
   "execution_count": 343,
   "metadata": {
    "tags": []
   },
   "outputs": [],
   "source": [
    "df = pd.read_csv('data_sets/winequality-red.csv')"
   ]
  },
  {
   "cell_type": "code",
   "execution_count": 344,
   "metadata": {
    "tags": []
   },
   "outputs": [
    {
     "data": {
      "text/html": [
       "<div>\n",
       "<style scoped>\n",
       "    .dataframe tbody tr th:only-of-type {\n",
       "        vertical-align: middle;\n",
       "    }\n",
       "\n",
       "    .dataframe tbody tr th {\n",
       "        vertical-align: top;\n",
       "    }\n",
       "\n",
       "    .dataframe thead th {\n",
       "        text-align: right;\n",
       "    }\n",
       "</style>\n",
       "<table border=\"1\" class=\"dataframe\">\n",
       "  <thead>\n",
       "    <tr style=\"text-align: right;\">\n",
       "      <th></th>\n",
       "      <th>fixed acidity Q1</th>\n",
       "      <th>fixed acidity Q2</th>\n",
       "      <th>fixed acidity Q3</th>\n",
       "      <th>fixed acidity Q4</th>\n",
       "      <th>volatile acidity Q1</th>\n",
       "      <th>volatile acidity Q2</th>\n",
       "      <th>volatile acidity Q3</th>\n",
       "      <th>volatile acidity Q4</th>\n",
       "      <th>citric acid Q1</th>\n",
       "      <th>citric acid Q2</th>\n",
       "      <th>...</th>\n",
       "      <th>pH Q4</th>\n",
       "      <th>sulphates Q1</th>\n",
       "      <th>sulphates Q2</th>\n",
       "      <th>sulphates Q3</th>\n",
       "      <th>sulphates Q4</th>\n",
       "      <th>alcohol Q1</th>\n",
       "      <th>alcohol Q2</th>\n",
       "      <th>alcohol Q3</th>\n",
       "      <th>alcohol Q4</th>\n",
       "      <th>quality</th>\n",
       "    </tr>\n",
       "  </thead>\n",
       "  <tbody>\n",
       "    <tr>\n",
       "      <th>0</th>\n",
       "      <td>0</td>\n",
       "      <td>1</td>\n",
       "      <td>0</td>\n",
       "      <td>0</td>\n",
       "      <td>0</td>\n",
       "      <td>0</td>\n",
       "      <td>0</td>\n",
       "      <td>1</td>\n",
       "      <td>1</td>\n",
       "      <td>0</td>\n",
       "      <td>...</td>\n",
       "      <td>1</td>\n",
       "      <td>0</td>\n",
       "      <td>1</td>\n",
       "      <td>0</td>\n",
       "      <td>0</td>\n",
       "      <td>1</td>\n",
       "      <td>0</td>\n",
       "      <td>0</td>\n",
       "      <td>0</td>\n",
       "      <td>0</td>\n",
       "    </tr>\n",
       "    <tr>\n",
       "      <th>1</th>\n",
       "      <td>0</td>\n",
       "      <td>1</td>\n",
       "      <td>0</td>\n",
       "      <td>0</td>\n",
       "      <td>0</td>\n",
       "      <td>0</td>\n",
       "      <td>0</td>\n",
       "      <td>1</td>\n",
       "      <td>1</td>\n",
       "      <td>0</td>\n",
       "      <td>...</td>\n",
       "      <td>0</td>\n",
       "      <td>0</td>\n",
       "      <td>0</td>\n",
       "      <td>1</td>\n",
       "      <td>0</td>\n",
       "      <td>0</td>\n",
       "      <td>1</td>\n",
       "      <td>0</td>\n",
       "      <td>0</td>\n",
       "      <td>0</td>\n",
       "    </tr>\n",
       "    <tr>\n",
       "      <th>2</th>\n",
       "      <td>0</td>\n",
       "      <td>1</td>\n",
       "      <td>0</td>\n",
       "      <td>0</td>\n",
       "      <td>0</td>\n",
       "      <td>0</td>\n",
       "      <td>0</td>\n",
       "      <td>1</td>\n",
       "      <td>1</td>\n",
       "      <td>0</td>\n",
       "      <td>...</td>\n",
       "      <td>0</td>\n",
       "      <td>0</td>\n",
       "      <td>0</td>\n",
       "      <td>1</td>\n",
       "      <td>0</td>\n",
       "      <td>0</td>\n",
       "      <td>1</td>\n",
       "      <td>0</td>\n",
       "      <td>0</td>\n",
       "      <td>0</td>\n",
       "    </tr>\n",
       "    <tr>\n",
       "      <th>3</th>\n",
       "      <td>0</td>\n",
       "      <td>0</td>\n",
       "      <td>0</td>\n",
       "      <td>1</td>\n",
       "      <td>1</td>\n",
       "      <td>0</td>\n",
       "      <td>0</td>\n",
       "      <td>0</td>\n",
       "      <td>0</td>\n",
       "      <td>0</td>\n",
       "      <td>...</td>\n",
       "      <td>0</td>\n",
       "      <td>0</td>\n",
       "      <td>1</td>\n",
       "      <td>0</td>\n",
       "      <td>0</td>\n",
       "      <td>0</td>\n",
       "      <td>1</td>\n",
       "      <td>0</td>\n",
       "      <td>0</td>\n",
       "      <td>0</td>\n",
       "    </tr>\n",
       "    <tr>\n",
       "      <th>4</th>\n",
       "      <td>0</td>\n",
       "      <td>1</td>\n",
       "      <td>0</td>\n",
       "      <td>0</td>\n",
       "      <td>0</td>\n",
       "      <td>0</td>\n",
       "      <td>0</td>\n",
       "      <td>1</td>\n",
       "      <td>1</td>\n",
       "      <td>0</td>\n",
       "      <td>...</td>\n",
       "      <td>1</td>\n",
       "      <td>0</td>\n",
       "      <td>1</td>\n",
       "      <td>0</td>\n",
       "      <td>0</td>\n",
       "      <td>1</td>\n",
       "      <td>0</td>\n",
       "      <td>0</td>\n",
       "      <td>0</td>\n",
       "      <td>0</td>\n",
       "    </tr>\n",
       "  </tbody>\n",
       "</table>\n",
       "<p>5 rows × 45 columns</p>\n",
       "</div>"
      ],
      "text/plain": [
       "   fixed acidity Q1  fixed acidity Q2  fixed acidity Q3  fixed acidity Q4  \\\n",
       "0                 0                 1                 0                 0   \n",
       "1                 0                 1                 0                 0   \n",
       "2                 0                 1                 0                 0   \n",
       "3                 0                 0                 0                 1   \n",
       "4                 0                 1                 0                 0   \n",
       "\n",
       "   volatile acidity Q1  volatile acidity Q2  volatile acidity Q3  \\\n",
       "0                    0                    0                    0   \n",
       "1                    0                    0                    0   \n",
       "2                    0                    0                    0   \n",
       "3                    1                    0                    0   \n",
       "4                    0                    0                    0   \n",
       "\n",
       "   volatile acidity Q4  citric acid Q1  citric acid Q2  ...  pH Q4  \\\n",
       "0                    1               1               0  ...      1   \n",
       "1                    1               1               0  ...      0   \n",
       "2                    1               1               0  ...      0   \n",
       "3                    0               0               0  ...      0   \n",
       "4                    1               1               0  ...      1   \n",
       "\n",
       "   sulphates Q1  sulphates Q2  sulphates Q3  sulphates Q4  alcohol Q1  \\\n",
       "0             0             1             0             0           1   \n",
       "1             0             0             1             0           0   \n",
       "2             0             0             1             0           0   \n",
       "3             0             1             0             0           0   \n",
       "4             0             1             0             0           1   \n",
       "\n",
       "   alcohol Q2  alcohol Q3  alcohol Q4  quality  \n",
       "0           0           0           0        0  \n",
       "1           1           0           0        0  \n",
       "2           1           0           0        0  \n",
       "3           1           0           0        0  \n",
       "4           0           0           0        0  \n",
       "\n",
       "[5 rows x 45 columns]"
      ]
     },
     "execution_count": 344,
     "metadata": {},
     "output_type": "execute_result"
    }
   ],
   "source": [
    "quartiles = df.drop(columns=['quality']).quantile([0.25, 0.5, 0.75])\n",
    "binarized_dataset = pd.DataFrame()\n",
    "for column in df.columns:\n",
    "    if column != 'quality':\n",
    "        binarized_dataset[f'{column} Q1'] = (df[column] <= quartiles.loc[0.25, column]).astype(int)\n",
    "        binarized_dataset[f'{column} Q2'] = ((df[column] > quartiles.loc[0.25, column]) & (df[column] <= quartiles.loc[0.5, column])).astype(int)\n",
    "        binarized_dataset[f'{column} Q3'] = ((df[column] > quartiles.loc[0.5, column]) & (df[column] <= quartiles.loc[0.75, column])).astype(int)\n",
    "        binarized_dataset[f'{column} Q4'] = (df[column] > quartiles.loc[0.75, column]).astype(int)\n",
    "binarized_dataset['quality'] = (df['quality'] > 7).astype(int)\n",
    "binarized_dataset.head()"
   ]
  },
  {
   "cell_type": "code",
   "execution_count": 345,
   "metadata": {
    "tags": []
   },
   "outputs": [
    {
     "data": {
      "text/plain": [
       "array([0, 1])"
      ]
     },
     "execution_count": 345,
     "metadata": {},
     "output_type": "execute_result"
    }
   ],
   "source": [
    "binarized_dataset['quality'].unique()"
   ]
  },
  {
   "cell_type": "code",
   "execution_count": 346,
   "metadata": {
    "tags": []
   },
   "outputs": [],
   "source": [
    "binarized_dataset  = binarized_dataset.sample(150)"
   ]
  },
  {
   "cell_type": "code",
   "execution_count": 347,
   "metadata": {
    "tags": []
   },
   "outputs": [],
   "source": [
    "X = binarized_dataset.iloc[:,:-1]\n",
    "y = binarized_dataset['quality']\n",
    "X_train, X_test, y_train, y_test = train_test_split(X, y, test_size=0.4, random_state=42)"
   ]
  },
  {
   "cell_type": "code",
   "execution_count": 348,
   "metadata": {
    "tags": []
   },
   "outputs": [],
   "source": [
    "pat_cls = fcalc.classifier.BinarizedBinaryClassifier(X_train.values, y_train.to_numpy(), method=\"support\", alpha=1)"
   ]
  },
  {
   "cell_type": "code",
   "execution_count": 349,
   "metadata": {
    "tags": []
   },
   "outputs": [],
   "source": [
    "pat_cls.predict(X_test.values)"
   ]
  },
  {
   "cell_type": "code",
   "execution_count": 350,
   "metadata": {
    "tags": []
   },
   "outputs": [
    {
     "name": "stdout",
     "output_type": "stream",
     "text": [
      "accuracy: 0.9833\n",
      "f1 score: 0.9751\n"
     ]
    }
   ],
   "source": [
    "print(\"accuracy:\", round(accuracy_score(y_test, pat_cls.predictions), 4))\n",
    "print(\"f1 score:\", round(f1_score(y_test, pat_cls.predictions, average='weighted'), 4))"
   ]
  },
  {
   "cell_type": "code",
   "execution_count": 351,
   "metadata": {
    "tags": []
   },
   "outputs": [
    {
     "name": "stdout",
     "output_type": "stream",
     "text": [
      "Alpha: 0.1, Method: standard, Average Accuracy: 0.12666666666666665\n",
      "Alpha: 0.1, Method: standard-support, Average Accuracy: 0.0\n",
      "Alpha: 0.1, Method: ratio-support, Average Accuracy: 0.9733333333333334\n",
      "Alpha: 0.2, Method: standard, Average Accuracy: 0.12666666666666665\n",
      "Alpha: 0.2, Method: standard-support, Average Accuracy: 0.0\n",
      "Alpha: 0.2, Method: ratio-support, Average Accuracy: 0.9733333333333334\n",
      "Alpha: 0.3, Method: standard, Average Accuracy: 0.12666666666666665\n",
      "Alpha: 0.3, Method: standard-support, Average Accuracy: 0.0\n",
      "Alpha: 0.3, Method: ratio-support, Average Accuracy: 0.9733333333333334\n"
     ]
    }
   ],
   "source": [
    "from sklearn.model_selection import KFold\n",
    "import numpy as np\n",
    "\n",
    "def cross_validation_fca(model_class, context, labels, k=5, alphas=[0.], methods=['standard']):\n",
    "    kf = KFold(n_splits=k)\n",
    "    results = []\n",
    "\n",
    "    for alpha in alphas:\n",
    "        for method in methods:\n",
    "            accuracies = []\n",
    "            for train_index, test_index in kf.split(context):\n",
    "                X_train, X_test = context[train_index], context[test_index]\n",
    "                y_train, y_test = labels[train_index], labels[test_index]\n",
    "                model = model_class(X_train, y_train, alpha=alpha, method=method)\n",
    "                model.predict(X_test) \n",
    "                predictions = model.predictions  \n",
    "                accuracy = np.mean(predictions == y_test)\n",
    "                accuracies.append(accuracy)\n",
    "            results.append({'alpha': alpha, 'method': method, 'accuracies': accuracies, 'average_accuracy': np.mean(accuracies)})\n",
    "\n",
    "    return results\n",
    "\n",
    "# Example usage:\n",
    "results = cross_validation_fca(\n",
    "    model_class=fcalc.classifier.BinarizedBinaryClassifier, \n",
    "    context=X.values, \n",
    "    labels=y.to_numpy(), \n",
    "    k=5, \n",
    "    alphas=[0.1, 0.2, 0.3], \n",
    "    methods=['standard', 'standard-support', 'ratio-support']\n",
    ")\n",
    "\n",
    "for result in results:\n",
    "    print(f\"Alpha: {result['alpha']}, Method: {result['method']}, Average Accuracy: {result['average_accuracy']}\")\n"
   ]
  },
  {
   "cell_type": "markdown",
   "metadata": {},
   "source": [
    "## Diabetes"
   ]
  },
  {
   "cell_type": "code",
   "execution_count": 363,
   "metadata": {
    "tags": []
   },
   "outputs": [],
   "source": [
    "df = pd.read_csv('data_sets/diabetes.csv')"
   ]
  },
  {
   "cell_type": "code",
   "execution_count": 364,
   "metadata": {
    "tags": []
   },
   "outputs": [
    {
     "data": {
      "text/html": [
       "<div>\n",
       "<style scoped>\n",
       "    .dataframe tbody tr th:only-of-type {\n",
       "        vertical-align: middle;\n",
       "    }\n",
       "\n",
       "    .dataframe tbody tr th {\n",
       "        vertical-align: top;\n",
       "    }\n",
       "\n",
       "    .dataframe thead th {\n",
       "        text-align: right;\n",
       "    }\n",
       "</style>\n",
       "<table border=\"1\" class=\"dataframe\">\n",
       "  <thead>\n",
       "    <tr style=\"text-align: right;\">\n",
       "      <th></th>\n",
       "      <th>Pregnancies Q1</th>\n",
       "      <th>Pregnancies Q2</th>\n",
       "      <th>Pregnancies Q3</th>\n",
       "      <th>Pregnancies Q4</th>\n",
       "      <th>Glucose Q1</th>\n",
       "      <th>Glucose Q2</th>\n",
       "      <th>Glucose Q3</th>\n",
       "      <th>Glucose Q4</th>\n",
       "      <th>BloodPressure Q1</th>\n",
       "      <th>BloodPressure Q2</th>\n",
       "      <th>...</th>\n",
       "      <th>BMI Q4</th>\n",
       "      <th>DiabetesPedigreeFunction Q1</th>\n",
       "      <th>DiabetesPedigreeFunction Q2</th>\n",
       "      <th>DiabetesPedigreeFunction Q3</th>\n",
       "      <th>DiabetesPedigreeFunction Q4</th>\n",
       "      <th>Age Q1</th>\n",
       "      <th>Age Q2</th>\n",
       "      <th>Age Q3</th>\n",
       "      <th>Age Q4</th>\n",
       "      <th>Outcome</th>\n",
       "    </tr>\n",
       "  </thead>\n",
       "  <tbody>\n",
       "    <tr>\n",
       "      <th>0</th>\n",
       "      <td>0</td>\n",
       "      <td>0</td>\n",
       "      <td>1</td>\n",
       "      <td>0</td>\n",
       "      <td>0</td>\n",
       "      <td>0</td>\n",
       "      <td>0</td>\n",
       "      <td>1</td>\n",
       "      <td>0</td>\n",
       "      <td>1</td>\n",
       "      <td>...</td>\n",
       "      <td>0</td>\n",
       "      <td>0</td>\n",
       "      <td>0</td>\n",
       "      <td>0</td>\n",
       "      <td>1</td>\n",
       "      <td>0</td>\n",
       "      <td>0</td>\n",
       "      <td>0</td>\n",
       "      <td>1</td>\n",
       "      <td>1</td>\n",
       "    </tr>\n",
       "    <tr>\n",
       "      <th>1</th>\n",
       "      <td>1</td>\n",
       "      <td>0</td>\n",
       "      <td>0</td>\n",
       "      <td>0</td>\n",
       "      <td>1</td>\n",
       "      <td>0</td>\n",
       "      <td>0</td>\n",
       "      <td>0</td>\n",
       "      <td>0</td>\n",
       "      <td>1</td>\n",
       "      <td>...</td>\n",
       "      <td>0</td>\n",
       "      <td>0</td>\n",
       "      <td>1</td>\n",
       "      <td>0</td>\n",
       "      <td>0</td>\n",
       "      <td>0</td>\n",
       "      <td>0</td>\n",
       "      <td>1</td>\n",
       "      <td>0</td>\n",
       "      <td>0</td>\n",
       "    </tr>\n",
       "    <tr>\n",
       "      <th>2</th>\n",
       "      <td>0</td>\n",
       "      <td>0</td>\n",
       "      <td>0</td>\n",
       "      <td>1</td>\n",
       "      <td>0</td>\n",
       "      <td>0</td>\n",
       "      <td>0</td>\n",
       "      <td>1</td>\n",
       "      <td>0</td>\n",
       "      <td>1</td>\n",
       "      <td>...</td>\n",
       "      <td>0</td>\n",
       "      <td>0</td>\n",
       "      <td>0</td>\n",
       "      <td>0</td>\n",
       "      <td>1</td>\n",
       "      <td>0</td>\n",
       "      <td>0</td>\n",
       "      <td>1</td>\n",
       "      <td>0</td>\n",
       "      <td>1</td>\n",
       "    </tr>\n",
       "    <tr>\n",
       "      <th>3</th>\n",
       "      <td>1</td>\n",
       "      <td>0</td>\n",
       "      <td>0</td>\n",
       "      <td>0</td>\n",
       "      <td>1</td>\n",
       "      <td>0</td>\n",
       "      <td>0</td>\n",
       "      <td>0</td>\n",
       "      <td>0</td>\n",
       "      <td>1</td>\n",
       "      <td>...</td>\n",
       "      <td>0</td>\n",
       "      <td>1</td>\n",
       "      <td>0</td>\n",
       "      <td>0</td>\n",
       "      <td>0</td>\n",
       "      <td>1</td>\n",
       "      <td>0</td>\n",
       "      <td>0</td>\n",
       "      <td>0</td>\n",
       "      <td>0</td>\n",
       "    </tr>\n",
       "    <tr>\n",
       "      <th>4</th>\n",
       "      <td>1</td>\n",
       "      <td>0</td>\n",
       "      <td>0</td>\n",
       "      <td>0</td>\n",
       "      <td>0</td>\n",
       "      <td>0</td>\n",
       "      <td>1</td>\n",
       "      <td>0</td>\n",
       "      <td>1</td>\n",
       "      <td>0</td>\n",
       "      <td>...</td>\n",
       "      <td>1</td>\n",
       "      <td>0</td>\n",
       "      <td>0</td>\n",
       "      <td>0</td>\n",
       "      <td>1</td>\n",
       "      <td>0</td>\n",
       "      <td>0</td>\n",
       "      <td>1</td>\n",
       "      <td>0</td>\n",
       "      <td>1</td>\n",
       "    </tr>\n",
       "  </tbody>\n",
       "</table>\n",
       "<p>5 rows × 33 columns</p>\n",
       "</div>"
      ],
      "text/plain": [
       "   Pregnancies Q1  Pregnancies Q2  Pregnancies Q3  Pregnancies Q4  Glucose Q1  \\\n",
       "0               0               0               1               0           0   \n",
       "1               1               0               0               0           1   \n",
       "2               0               0               0               1           0   \n",
       "3               1               0               0               0           1   \n",
       "4               1               0               0               0           0   \n",
       "\n",
       "   Glucose Q2  Glucose Q3  Glucose Q4  BloodPressure Q1  BloodPressure Q2  \\\n",
       "0           0           0           1                 0                 1   \n",
       "1           0           0           0                 0                 1   \n",
       "2           0           0           1                 0                 1   \n",
       "3           0           0           0                 0                 1   \n",
       "4           0           1           0                 1                 0   \n",
       "\n",
       "   ...  BMI Q4  DiabetesPedigreeFunction Q1  DiabetesPedigreeFunction Q2  \\\n",
       "0  ...       0                            0                            0   \n",
       "1  ...       0                            0                            1   \n",
       "2  ...       0                            0                            0   \n",
       "3  ...       0                            1                            0   \n",
       "4  ...       1                            0                            0   \n",
       "\n",
       "   DiabetesPedigreeFunction Q3  DiabetesPedigreeFunction Q4  Age Q1  Age Q2  \\\n",
       "0                            0                            1       0       0   \n",
       "1                            0                            0       0       0   \n",
       "2                            0                            1       0       0   \n",
       "3                            0                            0       1       0   \n",
       "4                            0                            1       0       0   \n",
       "\n",
       "   Age Q3  Age Q4  Outcome  \n",
       "0       0       1        1  \n",
       "1       1       0        0  \n",
       "2       1       0        1  \n",
       "3       0       0        0  \n",
       "4       1       0        1  \n",
       "\n",
       "[5 rows x 33 columns]"
      ]
     },
     "execution_count": 364,
     "metadata": {},
     "output_type": "execute_result"
    }
   ],
   "source": [
    "quartiles = df.quantile([0.25, 0.5, 0.75])\n",
    "binarized_dataset = pd.DataFrame()\n",
    "for column in df.columns:\n",
    "    if column != 'Outcome':\n",
    "        binarized_dataset[f'{column} Q1'] = (df[column] <= quartiles.loc[0.25, column]).astype(int)\n",
    "        binarized_dataset[f'{column} Q2'] = ((df[column] > quartiles.loc[0.25, column]) & (df[column] <= quartiles.loc[0.5, column])).astype(int)\n",
    "        binarized_dataset[f'{column} Q3'] = ((df[column] > quartiles.loc[0.5, column]) & (df[column] <= quartiles.loc[0.75, column])).astype(int)\n",
    "        binarized_dataset[f'{column} Q4'] = (df[column] > quartiles.loc[0.75, column]).astype(int)\n",
    "binarized_dataset['Outcome'] = df['Outcome']\n",
    "binarized_dataset.head()"
   ]
  },
  {
   "cell_type": "code",
   "execution_count": 365,
   "metadata": {
    "tags": []
   },
   "outputs": [],
   "source": [
    "X = binarized_dataset.iloc[:,:-1]\n",
    "y = binarized_dataset['Outcome']\n",
    "X_train, X_test, y_train, y_test = train_test_split(X, y, test_size=0.4, random_state=42)"
   ]
  },
  {
   "cell_type": "code",
   "execution_count": 366,
   "metadata": {
    "tags": []
   },
   "outputs": [],
   "source": [
    "pat_cls = fcalc.classifier.BinarizedBinaryClassifier(X_train.values, y_train.to_numpy(), method=\"support\", alpha=1)"
   ]
  },
  {
   "cell_type": "code",
   "execution_count": 367,
   "metadata": {
    "tags": []
   },
   "outputs": [],
   "source": [
    "pat_cls.predict(X_test.values)"
   ]
  },
  {
   "cell_type": "code",
   "execution_count": 368,
   "metadata": {
    "tags": []
   },
   "outputs": [
    {
     "name": "stdout",
     "output_type": "stream",
     "text": [
      "accuracy: 0.6688\n",
      "f1 score: 0.5361\n"
     ]
    }
   ],
   "source": [
    "print(\"accuracy:\", round(accuracy_score(y_test, pat_cls.predictions), 4))\n",
    "print(\"f1 score:\", round(f1_score(y_test, pat_cls.predictions, average='weighted'), 4))"
   ]
  },
  {
   "cell_type": "code",
   "execution_count": 369,
   "metadata": {
    "tags": []
   },
   "outputs": [
    {
     "name": "stdout",
     "output_type": "stream",
     "text": [
      "Alpha: 0.1, Method: standard, Average Accuracy: 0.7084033613445377\n",
      "Alpha: 0.1, Method: standard-support, Average Accuracy: 0.0\n",
      "Alpha: 0.1, Method: ratio-support, Average Accuracy: 0.44143111790170614\n",
      "Alpha: 0.2, Method: standard, Average Accuracy: 0.7084033613445377\n",
      "Alpha: 0.2, Method: standard-support, Average Accuracy: 0.0\n",
      "Alpha: 0.2, Method: ratio-support, Average Accuracy: 0.44143111790170614\n",
      "Alpha: 0.3, Method: standard, Average Accuracy: 0.7084033613445377\n",
      "Alpha: 0.3, Method: standard-support, Average Accuracy: 0.0\n",
      "Alpha: 0.3, Method: ratio-support, Average Accuracy: 0.44143111790170614\n"
     ]
    }
   ],
   "source": [
    "from sklearn.model_selection import KFold\n",
    "import numpy as np\n",
    "\n",
    "def cross_validation_fca(model_class, context, labels, k=5, alphas=[0.], methods=['standard']):\n",
    "    kf = KFold(n_splits=k)\n",
    "    results = []\n",
    "\n",
    "    for alpha in alphas:\n",
    "        for method in methods:\n",
    "            accuracies = []\n",
    "            for train_index, test_index in kf.split(context):\n",
    "                X_train, X_test = context[train_index], context[test_index]\n",
    "                y_train, y_test = labels[train_index], labels[test_index]\n",
    "                model = model_class(X_train, y_train, alpha=alpha, method=method)\n",
    "                model.predict(X_test) \n",
    "                predictions = model.predictions  \n",
    "                accuracy = np.mean(predictions == y_test)\n",
    "                accuracies.append(accuracy)\n",
    "            results.append({'alpha': alpha, 'method': method, 'accuracies': accuracies, 'average_accuracy': np.mean(accuracies)})\n",
    "\n",
    "    return results\n",
    "\n",
    "# Example usage:\n",
    "results = cross_validation_fca(\n",
    "    model_class=fcalc.classifier.BinarizedBinaryClassifier, \n",
    "    context=X.values, \n",
    "    labels=y.to_numpy(), \n",
    "    k=5, \n",
    "    alphas=[0.1, 0.2, 0.3], \n",
    "    methods=['standard', 'standard-support', 'ratio-support']\n",
    ")\n",
    "\n",
    "for result in results:\n",
    "    print(f\"Alpha: {result['alpha']}, Method: {result['method']}, Average Accuracy: {result['average_accuracy']}\")\n"
   ]
  },
  {
   "cell_type": "markdown",
   "metadata": {},
   "source": [
    "# PatternBinaryClassifier"
   ]
  },
  {
   "cell_type": "markdown",
   "metadata": {
    "tags": []
   },
   "source": [
    "## Bank "
   ]
  },
  {
   "cell_type": "code",
   "execution_count": 370,
   "metadata": {
    "tags": []
   },
   "outputs": [],
   "source": [
    "df = pd.read_csv('data_sets/bank.csv')"
   ]
  },
  {
   "cell_type": "code",
   "execution_count": 371,
   "metadata": {
    "tags": []
   },
   "outputs": [],
   "source": [
    "df = df.sample(1000)"
   ]
  },
  {
   "cell_type": "code",
   "execution_count": 372,
   "metadata": {
    "tags": []
   },
   "outputs": [
    {
     "data": {
      "text/html": [
       "<div>\n",
       "<style scoped>\n",
       "    .dataframe tbody tr th:only-of-type {\n",
       "        vertical-align: middle;\n",
       "    }\n",
       "\n",
       "    .dataframe tbody tr th {\n",
       "        vertical-align: top;\n",
       "    }\n",
       "\n",
       "    .dataframe thead th {\n",
       "        text-align: right;\n",
       "    }\n",
       "</style>\n",
       "<table border=\"1\" class=\"dataframe\">\n",
       "  <thead>\n",
       "    <tr style=\"text-align: right;\">\n",
       "      <th></th>\n",
       "      <th>age</th>\n",
       "      <th>job</th>\n",
       "      <th>marital</th>\n",
       "      <th>education</th>\n",
       "      <th>default</th>\n",
       "      <th>balance</th>\n",
       "      <th>housing</th>\n",
       "      <th>loan</th>\n",
       "      <th>contact</th>\n",
       "      <th>day</th>\n",
       "      <th>month</th>\n",
       "      <th>duration</th>\n",
       "      <th>campaign</th>\n",
       "      <th>pdays</th>\n",
       "      <th>previous</th>\n",
       "      <th>poutcome</th>\n",
       "      <th>deposit</th>\n",
       "    </tr>\n",
       "  </thead>\n",
       "  <tbody>\n",
       "    <tr>\n",
       "      <th>10538</th>\n",
       "      <td>51</td>\n",
       "      <td>management</td>\n",
       "      <td>married</td>\n",
       "      <td>tertiary</td>\n",
       "      <td>yes</td>\n",
       "      <td>0</td>\n",
       "      <td>no</td>\n",
       "      <td>yes</td>\n",
       "      <td>cellular</td>\n",
       "      <td>29</td>\n",
       "      <td>jul</td>\n",
       "      <td>204</td>\n",
       "      <td>6</td>\n",
       "      <td>-1</td>\n",
       "      <td>0</td>\n",
       "      <td>unknown</td>\n",
       "      <td>no</td>\n",
       "    </tr>\n",
       "    <tr>\n",
       "      <th>438</th>\n",
       "      <td>44</td>\n",
       "      <td>admin.</td>\n",
       "      <td>married</td>\n",
       "      <td>secondary</td>\n",
       "      <td>no</td>\n",
       "      <td>1074</td>\n",
       "      <td>yes</td>\n",
       "      <td>no</td>\n",
       "      <td>cellular</td>\n",
       "      <td>11</td>\n",
       "      <td>jul</td>\n",
       "      <td>911</td>\n",
       "      <td>2</td>\n",
       "      <td>-1</td>\n",
       "      <td>0</td>\n",
       "      <td>unknown</td>\n",
       "      <td>yes</td>\n",
       "    </tr>\n",
       "    <tr>\n",
       "      <th>3564</th>\n",
       "      <td>28</td>\n",
       "      <td>technician</td>\n",
       "      <td>married</td>\n",
       "      <td>secondary</td>\n",
       "      <td>no</td>\n",
       "      <td>742</td>\n",
       "      <td>no</td>\n",
       "      <td>no</td>\n",
       "      <td>cellular</td>\n",
       "      <td>26</td>\n",
       "      <td>may</td>\n",
       "      <td>236</td>\n",
       "      <td>1</td>\n",
       "      <td>-1</td>\n",
       "      <td>0</td>\n",
       "      <td>unknown</td>\n",
       "      <td>yes</td>\n",
       "    </tr>\n",
       "    <tr>\n",
       "      <th>4073</th>\n",
       "      <td>47</td>\n",
       "      <td>admin.</td>\n",
       "      <td>single</td>\n",
       "      <td>secondary</td>\n",
       "      <td>no</td>\n",
       "      <td>1693</td>\n",
       "      <td>yes</td>\n",
       "      <td>no</td>\n",
       "      <td>cellular</td>\n",
       "      <td>22</td>\n",
       "      <td>oct</td>\n",
       "      <td>608</td>\n",
       "      <td>2</td>\n",
       "      <td>92</td>\n",
       "      <td>4</td>\n",
       "      <td>other</td>\n",
       "      <td>yes</td>\n",
       "    </tr>\n",
       "    <tr>\n",
       "      <th>2974</th>\n",
       "      <td>31</td>\n",
       "      <td>technician</td>\n",
       "      <td>married</td>\n",
       "      <td>secondary</td>\n",
       "      <td>no</td>\n",
       "      <td>318</td>\n",
       "      <td>no</td>\n",
       "      <td>no</td>\n",
       "      <td>cellular</td>\n",
       "      <td>2</td>\n",
       "      <td>dec</td>\n",
       "      <td>310</td>\n",
       "      <td>1</td>\n",
       "      <td>-1</td>\n",
       "      <td>0</td>\n",
       "      <td>unknown</td>\n",
       "      <td>yes</td>\n",
       "    </tr>\n",
       "    <tr>\n",
       "      <th>...</th>\n",
       "      <td>...</td>\n",
       "      <td>...</td>\n",
       "      <td>...</td>\n",
       "      <td>...</td>\n",
       "      <td>...</td>\n",
       "      <td>...</td>\n",
       "      <td>...</td>\n",
       "      <td>...</td>\n",
       "      <td>...</td>\n",
       "      <td>...</td>\n",
       "      <td>...</td>\n",
       "      <td>...</td>\n",
       "      <td>...</td>\n",
       "      <td>...</td>\n",
       "      <td>...</td>\n",
       "      <td>...</td>\n",
       "      <td>...</td>\n",
       "    </tr>\n",
       "    <tr>\n",
       "      <th>7301</th>\n",
       "      <td>31</td>\n",
       "      <td>services</td>\n",
       "      <td>single</td>\n",
       "      <td>secondary</td>\n",
       "      <td>no</td>\n",
       "      <td>222</td>\n",
       "      <td>yes</td>\n",
       "      <td>no</td>\n",
       "      <td>cellular</td>\n",
       "      <td>13</td>\n",
       "      <td>may</td>\n",
       "      <td>168</td>\n",
       "      <td>2</td>\n",
       "      <td>-1</td>\n",
       "      <td>0</td>\n",
       "      <td>unknown</td>\n",
       "      <td>no</td>\n",
       "    </tr>\n",
       "    <tr>\n",
       "      <th>6046</th>\n",
       "      <td>59</td>\n",
       "      <td>retired</td>\n",
       "      <td>married</td>\n",
       "      <td>primary</td>\n",
       "      <td>no</td>\n",
       "      <td>-411</td>\n",
       "      <td>no</td>\n",
       "      <td>no</td>\n",
       "      <td>cellular</td>\n",
       "      <td>29</td>\n",
       "      <td>jan</td>\n",
       "      <td>225</td>\n",
       "      <td>1</td>\n",
       "      <td>-1</td>\n",
       "      <td>0</td>\n",
       "      <td>unknown</td>\n",
       "      <td>no</td>\n",
       "    </tr>\n",
       "    <tr>\n",
       "      <th>5306</th>\n",
       "      <td>34</td>\n",
       "      <td>blue-collar</td>\n",
       "      <td>single</td>\n",
       "      <td>secondary</td>\n",
       "      <td>no</td>\n",
       "      <td>3723</td>\n",
       "      <td>yes</td>\n",
       "      <td>no</td>\n",
       "      <td>unknown</td>\n",
       "      <td>27</td>\n",
       "      <td>may</td>\n",
       "      <td>47</td>\n",
       "      <td>5</td>\n",
       "      <td>-1</td>\n",
       "      <td>0</td>\n",
       "      <td>unknown</td>\n",
       "      <td>no</td>\n",
       "    </tr>\n",
       "    <tr>\n",
       "      <th>5427</th>\n",
       "      <td>35</td>\n",
       "      <td>technician</td>\n",
       "      <td>married</td>\n",
       "      <td>secondary</td>\n",
       "      <td>no</td>\n",
       "      <td>840</td>\n",
       "      <td>yes</td>\n",
       "      <td>no</td>\n",
       "      <td>cellular</td>\n",
       "      <td>29</td>\n",
       "      <td>jul</td>\n",
       "      <td>281</td>\n",
       "      <td>4</td>\n",
       "      <td>-1</td>\n",
       "      <td>0</td>\n",
       "      <td>unknown</td>\n",
       "      <td>no</td>\n",
       "    </tr>\n",
       "    <tr>\n",
       "      <th>920</th>\n",
       "      <td>60</td>\n",
       "      <td>management</td>\n",
       "      <td>married</td>\n",
       "      <td>tertiary</td>\n",
       "      <td>no</td>\n",
       "      <td>5041</td>\n",
       "      <td>no</td>\n",
       "      <td>no</td>\n",
       "      <td>telephone</td>\n",
       "      <td>4</td>\n",
       "      <td>nov</td>\n",
       "      <td>399</td>\n",
       "      <td>1</td>\n",
       "      <td>-1</td>\n",
       "      <td>0</td>\n",
       "      <td>unknown</td>\n",
       "      <td>yes</td>\n",
       "    </tr>\n",
       "  </tbody>\n",
       "</table>\n",
       "<p>1000 rows × 17 columns</p>\n",
       "</div>"
      ],
      "text/plain": [
       "       age          job  marital  education default  balance housing loan  \\\n",
       "10538   51   management  married   tertiary     yes        0      no  yes   \n",
       "438     44       admin.  married  secondary      no     1074     yes   no   \n",
       "3564    28   technician  married  secondary      no      742      no   no   \n",
       "4073    47       admin.   single  secondary      no     1693     yes   no   \n",
       "2974    31   technician  married  secondary      no      318      no   no   \n",
       "...    ...          ...      ...        ...     ...      ...     ...  ...   \n",
       "7301    31     services   single  secondary      no      222     yes   no   \n",
       "6046    59      retired  married    primary      no     -411      no   no   \n",
       "5306    34  blue-collar   single  secondary      no     3723     yes   no   \n",
       "5427    35   technician  married  secondary      no      840     yes   no   \n",
       "920     60   management  married   tertiary      no     5041      no   no   \n",
       "\n",
       "         contact  day month  duration  campaign  pdays  previous poutcome  \\\n",
       "10538   cellular   29   jul       204         6     -1         0  unknown   \n",
       "438     cellular   11   jul       911         2     -1         0  unknown   \n",
       "3564    cellular   26   may       236         1     -1         0  unknown   \n",
       "4073    cellular   22   oct       608         2     92         4    other   \n",
       "2974    cellular    2   dec       310         1     -1         0  unknown   \n",
       "...          ...  ...   ...       ...       ...    ...       ...      ...   \n",
       "7301    cellular   13   may       168         2     -1         0  unknown   \n",
       "6046    cellular   29   jan       225         1     -1         0  unknown   \n",
       "5306     unknown   27   may        47         5     -1         0  unknown   \n",
       "5427    cellular   29   jul       281         4     -1         0  unknown   \n",
       "920    telephone    4   nov       399         1     -1         0  unknown   \n",
       "\n",
       "      deposit  \n",
       "10538      no  \n",
       "438       yes  \n",
       "3564      yes  \n",
       "4073      yes  \n",
       "2974      yes  \n",
       "...       ...  \n",
       "7301       no  \n",
       "6046       no  \n",
       "5306       no  \n",
       "5427       no  \n",
       "920       yes  \n",
       "\n",
       "[1000 rows x 17 columns]"
      ]
     },
     "execution_count": 372,
     "metadata": {},
     "output_type": "execute_result"
    }
   ],
   "source": [
    "df"
   ]
  },
  {
   "cell_type": "code",
   "execution_count": 373,
   "metadata": {
    "tags": []
   },
   "outputs": [],
   "source": [
    "categorical_columns = ['job', 'marital', 'education', 'default', 'housing', 'loan', 'contact', 'month', 'poutcome', 'deposit']\n",
    "label_encoder = LabelEncoder()\n",
    "for col in categorical_columns:\n",
    "    df[col] = label_encoder.fit_transform(df[col])"
   ]
  },
  {
   "cell_type": "code",
   "execution_count": 374,
   "metadata": {
    "tags": []
   },
   "outputs": [
    {
     "data": {
      "text/plain": [
       "array([0, 1])"
      ]
     },
     "execution_count": 374,
     "metadata": {},
     "output_type": "execute_result"
    }
   ],
   "source": [
    "df['deposit'].unique()"
   ]
  },
  {
   "cell_type": "code",
   "execution_count": 375,
   "metadata": {
    "tags": []
   },
   "outputs": [],
   "source": [
    "X = df.iloc[:,:-1]\n",
    "y = df['deposit']\n",
    "X_train, X_test, y_train, y_test = train_test_split(X, y, test_size=0.3, random_state=42)"
   ]
  },
  {
   "cell_type": "code",
   "execution_count": 376,
   "metadata": {
    "tags": []
   },
   "outputs": [],
   "source": [
    "pat_cls = fcalc.classifier.PatternBinaryClassifier(X_train.values, y_train.to_numpy(), )\n",
    "pat_cls.predict(X_test.values)"
   ]
  },
  {
   "cell_type": "code",
   "execution_count": 377,
   "metadata": {
    "tags": []
   },
   "outputs": [
    {
     "name": "stdout",
     "output_type": "stream",
     "text": [
      "0.7133333333333334\n",
      "0.6692307692307692\n"
     ]
    }
   ],
   "source": [
    "print(accuracy_score(y_test, pat_cls.predictions))\n",
    "print(f1_score(y_test, pat_cls.predictions))"
   ]
  },
  {
   "cell_type": "code",
   "execution_count": 378,
   "metadata": {
    "tags": []
   },
   "outputs": [
    {
     "name": "stdout",
     "output_type": "stream",
     "text": [
      "Alpha: 0.1, Method: standard, Average Accuracy: 0.0\n",
      "Alpha: 0.1, Method: standard-support, Average Accuracy: 0.471\n",
      "Alpha: 0.1, Method: ratio-support, Average Accuracy: 0.752\n",
      "Alpha: 0.2, Method: standard, Average Accuracy: 0.0\n",
      "Alpha: 0.2, Method: standard-support, Average Accuracy: 0.471\n",
      "Alpha: 0.2, Method: ratio-support, Average Accuracy: 0.753\n",
      "Alpha: 0.3, Method: standard, Average Accuracy: 0.0\n",
      "Alpha: 0.3, Method: standard-support, Average Accuracy: 0.471\n",
      "Alpha: 0.3, Method: ratio-support, Average Accuracy: 0.752\n"
     ]
    }
   ],
   "source": [
    "from sklearn.model_selection import KFold\n",
    "import numpy as np\n",
    "\n",
    "def cross_validation_fca(model_class, context, labels, k=5, alphas=[0.], methods=['standard']):\n",
    "    kf = KFold(n_splits=k)\n",
    "    results = []\n",
    "\n",
    "    for alpha in alphas:\n",
    "        for method in methods:\n",
    "            accuracies = []\n",
    "            for train_index, test_index in kf.split(context):\n",
    "                X_train, X_test = context[train_index], context[test_index]\n",
    "                y_train, y_test = labels[train_index], labels[test_index]\n",
    "                model = model_class(X_train, y_train, alpha=alpha, method=method)\n",
    "                model.predict(X_test) \n",
    "                predictions = model.predictions  \n",
    "                accuracy = np.mean(predictions == y_test)\n",
    "                accuracies.append(accuracy)\n",
    "            results.append({'alpha': alpha, 'method': method, 'accuracies': accuracies, 'average_accuracy': np.mean(accuracies)})\n",
    "\n",
    "    return results\n",
    "\n",
    "# Example usage:\n",
    "results = cross_validation_fca(\n",
    "    model_class=fcalc.classifier.PatternBinaryClassifier, \n",
    "    context=X.values, \n",
    "    labels=y.to_numpy(), \n",
    "    k=5, \n",
    "    alphas=[0.1, 0.2, 0.3], \n",
    "    methods=['standard', 'standard-support', 'ratio-support']\n",
    ")\n",
    "\n",
    "for result in results:\n",
    "    print(f\"Alpha: {result['alpha']}, Method: {result['method']}, Average Accuracy: {result['average_accuracy']}\")\n"
   ]
  },
  {
   "cell_type": "markdown",
   "metadata": {},
   "source": [
    "## Winequality"
   ]
  },
  {
   "cell_type": "code",
   "execution_count": 407,
   "metadata": {
    "tags": []
   },
   "outputs": [],
   "source": [
    "df = pd.read_csv('data_sets/winequality-red.csv')\n"
   ]
  },
  {
   "cell_type": "code",
   "execution_count": 408,
   "metadata": {
    "tags": []
   },
   "outputs": [
    {
     "data": {
      "text/html": [
       "<div>\n",
       "<style scoped>\n",
       "    .dataframe tbody tr th:only-of-type {\n",
       "        vertical-align: middle;\n",
       "    }\n",
       "\n",
       "    .dataframe tbody tr th {\n",
       "        vertical-align: top;\n",
       "    }\n",
       "\n",
       "    .dataframe thead th {\n",
       "        text-align: right;\n",
       "    }\n",
       "</style>\n",
       "<table border=\"1\" class=\"dataframe\">\n",
       "  <thead>\n",
       "    <tr style=\"text-align: right;\">\n",
       "      <th></th>\n",
       "      <th>fixed acidity</th>\n",
       "      <th>volatile acidity</th>\n",
       "      <th>citric acid</th>\n",
       "      <th>residual sugar</th>\n",
       "      <th>chlorides</th>\n",
       "      <th>free sulfur dioxide</th>\n",
       "      <th>total sulfur dioxide</th>\n",
       "      <th>density</th>\n",
       "      <th>pH</th>\n",
       "      <th>sulphates</th>\n",
       "      <th>alcohol</th>\n",
       "      <th>quality</th>\n",
       "    </tr>\n",
       "  </thead>\n",
       "  <tbody>\n",
       "    <tr>\n",
       "      <th>0</th>\n",
       "      <td>7.4</td>\n",
       "      <td>0.70</td>\n",
       "      <td>0.00</td>\n",
       "      <td>1.9</td>\n",
       "      <td>0.076</td>\n",
       "      <td>11.0</td>\n",
       "      <td>34.0</td>\n",
       "      <td>0.9978</td>\n",
       "      <td>3.51</td>\n",
       "      <td>0.56</td>\n",
       "      <td>9.4</td>\n",
       "      <td>0</td>\n",
       "    </tr>\n",
       "    <tr>\n",
       "      <th>1</th>\n",
       "      <td>7.8</td>\n",
       "      <td>0.88</td>\n",
       "      <td>0.00</td>\n",
       "      <td>2.6</td>\n",
       "      <td>0.098</td>\n",
       "      <td>25.0</td>\n",
       "      <td>67.0</td>\n",
       "      <td>0.9968</td>\n",
       "      <td>3.20</td>\n",
       "      <td>0.68</td>\n",
       "      <td>9.8</td>\n",
       "      <td>0</td>\n",
       "    </tr>\n",
       "    <tr>\n",
       "      <th>2</th>\n",
       "      <td>7.8</td>\n",
       "      <td>0.76</td>\n",
       "      <td>0.04</td>\n",
       "      <td>2.3</td>\n",
       "      <td>0.092</td>\n",
       "      <td>15.0</td>\n",
       "      <td>54.0</td>\n",
       "      <td>0.9970</td>\n",
       "      <td>3.26</td>\n",
       "      <td>0.65</td>\n",
       "      <td>9.8</td>\n",
       "      <td>0</td>\n",
       "    </tr>\n",
       "    <tr>\n",
       "      <th>3</th>\n",
       "      <td>11.2</td>\n",
       "      <td>0.28</td>\n",
       "      <td>0.56</td>\n",
       "      <td>1.9</td>\n",
       "      <td>0.075</td>\n",
       "      <td>17.0</td>\n",
       "      <td>60.0</td>\n",
       "      <td>0.9980</td>\n",
       "      <td>3.16</td>\n",
       "      <td>0.58</td>\n",
       "      <td>9.8</td>\n",
       "      <td>0</td>\n",
       "    </tr>\n",
       "    <tr>\n",
       "      <th>4</th>\n",
       "      <td>7.4</td>\n",
       "      <td>0.70</td>\n",
       "      <td>0.00</td>\n",
       "      <td>1.9</td>\n",
       "      <td>0.076</td>\n",
       "      <td>11.0</td>\n",
       "      <td>34.0</td>\n",
       "      <td>0.9978</td>\n",
       "      <td>3.51</td>\n",
       "      <td>0.56</td>\n",
       "      <td>9.4</td>\n",
       "      <td>0</td>\n",
       "    </tr>\n",
       "  </tbody>\n",
       "</table>\n",
       "</div>"
      ],
      "text/plain": [
       "   fixed acidity  volatile acidity  citric acid  residual sugar  chlorides  \\\n",
       "0            7.4              0.70         0.00             1.9      0.076   \n",
       "1            7.8              0.88         0.00             2.6      0.098   \n",
       "2            7.8              0.76         0.04             2.3      0.092   \n",
       "3           11.2              0.28         0.56             1.9      0.075   \n",
       "4            7.4              0.70         0.00             1.9      0.076   \n",
       "\n",
       "   free sulfur dioxide  total sulfur dioxide  density    pH  sulphates  \\\n",
       "0                 11.0                  34.0   0.9978  3.51       0.56   \n",
       "1                 25.0                  67.0   0.9968  3.20       0.68   \n",
       "2                 15.0                  54.0   0.9970  3.26       0.65   \n",
       "3                 17.0                  60.0   0.9980  3.16       0.58   \n",
       "4                 11.0                  34.0   0.9978  3.51       0.56   \n",
       "\n",
       "   alcohol  quality  \n",
       "0      9.4        0  \n",
       "1      9.8        0  \n",
       "2      9.8        0  \n",
       "3      9.8        0  \n",
       "4      9.4        0  "
      ]
     },
     "execution_count": 408,
     "metadata": {},
     "output_type": "execute_result"
    }
   ],
   "source": [
    "df['quality'] = (df['quality'] > 7).astype(int)\n",
    "df.head()"
   ]
  },
  {
   "cell_type": "code",
   "execution_count": 409,
   "metadata": {
    "tags": []
   },
   "outputs": [],
   "source": [
    "df = df.sample(300)"
   ]
  },
  {
   "cell_type": "code",
   "execution_count": 410,
   "metadata": {
    "tags": []
   },
   "outputs": [],
   "source": [
    "X = df.iloc[:,:-1]\n",
    "y = df['quality']\n",
    "X_train, X_test, y_train, y_test = train_test_split(X, y, test_size=0.3, random_state=42)"
   ]
  },
  {
   "cell_type": "code",
   "execution_count": 412,
   "metadata": {
    "tags": []
   },
   "outputs": [],
   "source": [
    "pat_cls = fcalc.classifier.PatternBinaryClassifier(X_train.values, y_train.to_numpy(), method='ratio-support')\n",
    "pat_cls.predict(X_test.values)"
   ]
  },
  {
   "cell_type": "code",
   "execution_count": 413,
   "metadata": {
    "tags": []
   },
   "outputs": [
    {
     "name": "stdout",
     "output_type": "stream",
     "text": [
      "accuracy: 0.9111\n",
      "f1 score: 0.9362\n"
     ]
    }
   ],
   "source": [
    "print(\"accuracy:\", round(accuracy_score(y_test, pat_cls.predictions), 4))\n",
    "print(\"f1 score:\", round(f1_score(y_test, pat_cls.predictions, average='weighted'), 4))"
   ]
  },
  {
   "cell_type": "code",
   "execution_count": 414,
   "metadata": {
    "tags": []
   },
   "outputs": [
    {
     "name": "stdout",
     "output_type": "stream",
     "text": [
      "Alpha: 0.1, Method: standard, Average Accuracy: 0.003333333333333333\n",
      "Alpha: 0.1, Method: standard-support, Average Accuracy: 0.013333333333333332\n",
      "Alpha: 0.1, Method: ratio-support, Average Accuracy: 0.9800000000000001\n",
      "Alpha: 0.2, Method: standard, Average Accuracy: 0.003333333333333333\n",
      "Alpha: 0.2, Method: standard-support, Average Accuracy: 0.013333333333333332\n",
      "Alpha: 0.2, Method: ratio-support, Average Accuracy: 0.9833333333333334\n",
      "Alpha: 0.3, Method: standard, Average Accuracy: 0.003333333333333333\n",
      "Alpha: 0.3, Method: standard-support, Average Accuracy: 0.013333333333333332\n",
      "Alpha: 0.3, Method: ratio-support, Average Accuracy: 0.9833333333333334\n"
     ]
    }
   ],
   "source": [
    "from sklearn.model_selection import KFold\n",
    "import numpy as np\n",
    "\n",
    "def cross_validation_fca(model_class, context, labels, k=5, alphas=[0.], methods=['standard']):\n",
    "    kf = KFold(n_splits=k)\n",
    "    results = []\n",
    "\n",
    "    for alpha in alphas:\n",
    "        for method in methods:\n",
    "            accuracies = []\n",
    "            for train_index, test_index in kf.split(context):\n",
    "                X_train, X_test = context[train_index], context[test_index]\n",
    "                y_train, y_test = labels[train_index], labels[test_index]\n",
    "                model = model_class(X_train, y_train, alpha=alpha, method=method)\n",
    "                model.predict(X_test) \n",
    "                predictions = model.predictions  \n",
    "                accuracy = np.mean(predictions == y_test)\n",
    "                accuracies.append(accuracy)\n",
    "            results.append({'alpha': alpha, 'method': method, 'accuracies': accuracies, 'average_accuracy': np.mean(accuracies)})\n",
    "\n",
    "    return results\n",
    "\n",
    "# Example usage:\n",
    "results = cross_validation_fca(\n",
    "    model_class=fcalc.classifier.PatternBinaryClassifier, \n",
    "    context=X.values, \n",
    "    labels=y.to_numpy(), \n",
    "    k=5, \n",
    "    alphas=[0.1, 0.2, 0.3], \n",
    "    methods=['standard', 'standard-support', 'ratio-support']\n",
    ")\n",
    "\n",
    "for result in results:\n",
    "    print(f\"Alpha: {result['alpha']}, Method: {result['method']}, Average Accuracy: {result['average_accuracy']}\")\n"
   ]
  },
  {
   "cell_type": "markdown",
   "metadata": {},
   "source": [
    "## Diabetes"
   ]
  },
  {
   "cell_type": "code",
   "execution_count": 428,
   "metadata": {
    "tags": []
   },
   "outputs": [],
   "source": [
    "df = pd.read_csv('data_sets/diabetes.csv')"
   ]
  },
  {
   "cell_type": "code",
   "execution_count": 429,
   "metadata": {
    "tags": []
   },
   "outputs": [],
   "source": [
    "X = df.iloc[:,:-1]\n",
    "y = df['Outcome']\n",
    "X_train, X_test, y_train, y_test = train_test_split(X, y, test_size=0.4, random_state=42)"
   ]
  },
  {
   "cell_type": "code",
   "execution_count": 430,
   "metadata": {
    "tags": []
   },
   "outputs": [
    {
     "data": {
      "text/plain": [
       "array([1, 0])"
      ]
     },
     "execution_count": 430,
     "metadata": {},
     "output_type": "execute_result"
    }
   ],
   "source": [
    "df['Outcome'].unique()"
   ]
  },
  {
   "cell_type": "code",
   "execution_count": 431,
   "metadata": {
    "tags": []
   },
   "outputs": [],
   "source": [
    "pat_cls = fcalc.classifier.PatternBinaryClassifier(X_train.values, y_train.to_numpy(), method=\"support\", alpha=1)"
   ]
  },
  {
   "cell_type": "code",
   "execution_count": 432,
   "metadata": {
    "tags": []
   },
   "outputs": [],
   "source": [
    "pat_cls.predict(X_test.values)"
   ]
  },
  {
   "cell_type": "code",
   "execution_count": 434,
   "metadata": {
    "tags": []
   },
   "outputs": [
    {
     "name": "stdout",
     "output_type": "stream",
     "text": [
      "accuracy: 0.6688\n",
      "f1 score: 0.5361\n"
     ]
    }
   ],
   "source": [
    "print(\"accuracy:\", round(accuracy_score(y_test, pat_cls.predictions), 4))\n",
    "print(\"f1 score:\", round(f1_score(y_test, pat_cls.predictions, average='weighted'), 4))"
   ]
  },
  {
   "cell_type": "code",
   "execution_count": 435,
   "metadata": {
    "tags": []
   },
   "outputs": [
    {
     "name": "stdout",
     "output_type": "stream",
     "text": [
      "Alpha: 0.1, Method: standard, Average Accuracy: 0.04425770308123249\n",
      "Alpha: 0.1, Method: standard-support, Average Accuracy: 0.32539682539682535\n",
      "Alpha: 0.1, Method: ratio-support, Average Accuracy: 0.6366267719208897\n",
      "Alpha: 0.2, Method: standard, Average Accuracy: 0.006493506493506494\n",
      "Alpha: 0.2, Method: standard-support, Average Accuracy: 0.32019353195823785\n",
      "Alpha: 0.2, Method: ratio-support, Average Accuracy: 0.6418470418470419\n",
      "Alpha: 0.3, Method: standard, Average Accuracy: 0.0012987012987012987\n",
      "Alpha: 0.3, Method: standard-support, Average Accuracy: 0.31889483065953655\n",
      "Alpha: 0.3, Method: ratio-support, Average Accuracy: 0.6522960699431287\n"
     ]
    }
   ],
   "source": [
    "from sklearn.model_selection import KFold\n",
    "import numpy as np\n",
    "\n",
    "def cross_validation_fca(model_class, context, labels, k=5, alphas=[0.], methods=['standard']):\n",
    "    kf = KFold(n_splits=k)\n",
    "    results = []\n",
    "\n",
    "    for alpha in alphas:\n",
    "        for method in methods:\n",
    "            accuracies = []\n",
    "            for train_index, test_index in kf.split(context):\n",
    "                X_train, X_test = context[train_index], context[test_index]\n",
    "                y_train, y_test = labels[train_index], labels[test_index]\n",
    "                model = model_class(X_train, y_train, alpha=alpha, method=method)\n",
    "                model.predict(X_test) \n",
    "                predictions = model.predictions  \n",
    "                accuracy = np.mean(predictions == y_test)\n",
    "                accuracies.append(accuracy)\n",
    "            results.append({'alpha': alpha, 'method': method, 'accuracies': accuracies, 'average_accuracy': np.mean(accuracies)})\n",
    "\n",
    "    return results\n",
    "\n",
    "results = cross_validation_fca(\n",
    "    model_class=fcalc.classifier.PatternBinaryClassifier, \n",
    "    context=X.values, \n",
    "    labels=y.to_numpy(), \n",
    "    k=5, \n",
    "    alphas=[0.1, 0.2, 0.3], \n",
    "    methods=['standard', 'standard-support', 'ratio-support']\n",
    ")\n",
    "\n",
    "for result in results:\n",
    "    print(f\"Alpha: {result['alpha']}, Method: {result['method']}, Average Accuracy: {result['average_accuracy']}\")\n"
   ]
  },
  {
   "cell_type": "code",
   "execution_count": null,
   "metadata": {},
   "outputs": [],
   "source": []
  }
 ],
 "metadata": {
  "kernelspec": {
   "display_name": "Python 3 (ipykernel)",
   "language": "python",
   "name": "python3"
  },
  "language_info": {
   "codemirror_mode": {
    "name": "ipython",
    "version": 3
   },
   "file_extension": ".py",
   "mimetype": "text/x-python",
   "name": "python",
   "nbconvert_exporter": "python",
   "pygments_lexer": "ipython3",
   "version": "3.11.5"
  }
 },
 "nbformat": 4,
 "nbformat_minor": 4
}
