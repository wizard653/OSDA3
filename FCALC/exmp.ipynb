{
 "cells": [
  {
   "cell_type": "code",
   "execution_count": 11,
   "metadata": {
    "tags": []
   },
   "outputs": [],
   "source": [
    "import fcalc\n",
    "import pandas as pd\n",
    "import numpy as np\n",
    "from sklearn.model_selection import train_test_split"
   ]
  },
  {
   "cell_type": "markdown",
   "metadata": {},
   "source": [
    "# Binarized data"
   ]
  },
  {
   "cell_type": "code",
   "execution_count": 12,
   "metadata": {
    "tags": []
   },
   "outputs": [
    {
     "data": {
      "text/html": [
       "<div>\n",
       "<style scoped>\n",
       "    .dataframe tbody tr th:only-of-type {\n",
       "        vertical-align: middle;\n",
       "    }\n",
       "\n",
       "    .dataframe tbody tr th {\n",
       "        vertical-align: top;\n",
       "    }\n",
       "\n",
       "    .dataframe thead th {\n",
       "        text-align: right;\n",
       "    }\n",
       "</style>\n",
       "<table border=\"1\" class=\"dataframe\">\n",
       "  <thead>\n",
       "    <tr style=\"text-align: right;\">\n",
       "      <th></th>\n",
       "      <th>top-left-square</th>\n",
       "      <th>top-middle-square</th>\n",
       "      <th>top-right-square</th>\n",
       "      <th>middle-left-square</th>\n",
       "      <th>middle-middle-square</th>\n",
       "      <th>middle-right-square</th>\n",
       "      <th>bottom-left-square</th>\n",
       "      <th>bottom-middle-square</th>\n",
       "      <th>bottom-right-square</th>\n",
       "      <th>Class</th>\n",
       "    </tr>\n",
       "  </thead>\n",
       "  <tbody>\n",
       "    <tr>\n",
       "      <th>0</th>\n",
       "      <td>x</td>\n",
       "      <td>x</td>\n",
       "      <td>x</td>\n",
       "      <td>x</td>\n",
       "      <td>o</td>\n",
       "      <td>o</td>\n",
       "      <td>x</td>\n",
       "      <td>o</td>\n",
       "      <td>o</td>\n",
       "      <td>True</td>\n",
       "    </tr>\n",
       "    <tr>\n",
       "      <th>1</th>\n",
       "      <td>x</td>\n",
       "      <td>x</td>\n",
       "      <td>x</td>\n",
       "      <td>x</td>\n",
       "      <td>o</td>\n",
       "      <td>o</td>\n",
       "      <td>o</td>\n",
       "      <td>x</td>\n",
       "      <td>o</td>\n",
       "      <td>True</td>\n",
       "    </tr>\n",
       "    <tr>\n",
       "      <th>2</th>\n",
       "      <td>x</td>\n",
       "      <td>x</td>\n",
       "      <td>x</td>\n",
       "      <td>x</td>\n",
       "      <td>o</td>\n",
       "      <td>o</td>\n",
       "      <td>o</td>\n",
       "      <td>o</td>\n",
       "      <td>x</td>\n",
       "      <td>True</td>\n",
       "    </tr>\n",
       "    <tr>\n",
       "      <th>3</th>\n",
       "      <td>x</td>\n",
       "      <td>x</td>\n",
       "      <td>x</td>\n",
       "      <td>x</td>\n",
       "      <td>o</td>\n",
       "      <td>o</td>\n",
       "      <td>o</td>\n",
       "      <td>b</td>\n",
       "      <td>b</td>\n",
       "      <td>True</td>\n",
       "    </tr>\n",
       "    <tr>\n",
       "      <th>4</th>\n",
       "      <td>x</td>\n",
       "      <td>x</td>\n",
       "      <td>x</td>\n",
       "      <td>x</td>\n",
       "      <td>o</td>\n",
       "      <td>o</td>\n",
       "      <td>b</td>\n",
       "      <td>o</td>\n",
       "      <td>b</td>\n",
       "      <td>True</td>\n",
       "    </tr>\n",
       "  </tbody>\n",
       "</table>\n",
       "</div>"
      ],
      "text/plain": [
       "  top-left-square top-middle-square top-right-square middle-left-square  \\\n",
       "0               x                 x                x                  x   \n",
       "1               x                 x                x                  x   \n",
       "2               x                 x                x                  x   \n",
       "3               x                 x                x                  x   \n",
       "4               x                 x                x                  x   \n",
       "\n",
       "  middle-middle-square middle-right-square bottom-left-square  \\\n",
       "0                    o                   o                  x   \n",
       "1                    o                   o                  o   \n",
       "2                    o                   o                  o   \n",
       "3                    o                   o                  o   \n",
       "4                    o                   o                  b   \n",
       "\n",
       "  bottom-middle-square bottom-right-square  Class  \n",
       "0                    o                   o   True  \n",
       "1                    x                   o   True  \n",
       "2                    o                   x   True  \n",
       "3                    b                   b   True  \n",
       "4                    o                   b   True  "
      ]
     },
     "execution_count": 12,
     "metadata": {},
     "output_type": "execute_result"
    }
   ],
   "source": [
    "column_names = [\n",
    "        'top-left-square', 'top-middle-square', 'top-right-square',\n",
    "        'middle-left-square', 'middle-middle-square', 'middle-right-square',\n",
    "        'bottom-left-square', 'bottom-middle-square', 'bottom-right-square',\n",
    "        'Class'\n",
    "    ]\n",
    "df = pd.read_csv('data_sets/tic-tac-toe.data', names = column_names)\n",
    "df['Class'] = [x == 'positive' for x in df['Class']]\n",
    "df.head()"
   ]
  },
  {
   "cell_type": "code",
   "execution_count": 13,
   "metadata": {
    "tags": []
   },
   "outputs": [],
   "source": [
    "X = pd.get_dummies(df[column_names[:-1]], prefix=column_names[:-1]).astype(bool)\n",
    "y = df['Class']\n",
    "X_train, X_test, y_train, y_test = train_test_split(X, y, test_size=0.3, random_state=42)\n"
   ]
  },
  {
   "cell_type": "code",
   "execution_count": 14,
   "metadata": {
    "tags": []
   },
   "outputs": [],
   "source": [
    "bin_cls = fcalc.classifier.BinarizedBinaryClassifier(X_train.values, y_train.to_numpy(), method=\"standard-support\")"
   ]
  },
  {
   "cell_type": "code",
   "execution_count": 15,
   "metadata": {
    "tags": []
   },
   "outputs": [],
   "source": [
    "bin_cls.predict(X_test.values)"
   ]
  },
  {
   "cell_type": "code",
   "execution_count": 16,
   "metadata": {
    "tags": []
   },
   "outputs": [
    {
     "name": "stdout",
     "output_type": "stream",
     "text": [
      "0.9965277777777778\n",
      "0.9974160206718347\n"
     ]
    }
   ],
   "source": [
    "from sklearn.metrics import accuracy_score, f1_score\n",
    "\n",
    "print(accuracy_score(y_test, bin_cls.predictions))\n",
    "print(f1_score(y_test, bin_cls.predictions))"
   ]
  },
  {
   "cell_type": "markdown",
   "metadata": {},
   "source": [
    "# Pattern structures"
   ]
  },
  {
   "cell_type": "code",
   "execution_count": 17,
   "metadata": {
    "tags": []
   },
   "outputs": [
    {
     "data": {
      "text/html": [
       "<div>\n",
       "<style scoped>\n",
       "    .dataframe tbody tr th:only-of-type {\n",
       "        vertical-align: middle;\n",
       "    }\n",
       "\n",
       "    .dataframe tbody tr th {\n",
       "        vertical-align: top;\n",
       "    }\n",
       "\n",
       "    .dataframe thead th {\n",
       "        text-align: right;\n",
       "    }\n",
       "</style>\n",
       "<table border=\"1\" class=\"dataframe\">\n",
       "  <thead>\n",
       "    <tr style=\"text-align: right;\">\n",
       "      <th></th>\n",
       "      <th>top-left-square</th>\n",
       "      <th>top-middle-square</th>\n",
       "      <th>top-right-square</th>\n",
       "      <th>middle-left-square</th>\n",
       "      <th>middle-middle-square</th>\n",
       "      <th>middle-right-square</th>\n",
       "      <th>bottom-left-square</th>\n",
       "      <th>bottom-middle-square</th>\n",
       "      <th>bottom-right-square</th>\n",
       "      <th>Class</th>\n",
       "    </tr>\n",
       "  </thead>\n",
       "  <tbody>\n",
       "    <tr>\n",
       "      <th>0</th>\n",
       "      <td>x</td>\n",
       "      <td>x</td>\n",
       "      <td>x</td>\n",
       "      <td>x</td>\n",
       "      <td>o</td>\n",
       "      <td>o</td>\n",
       "      <td>x</td>\n",
       "      <td>o</td>\n",
       "      <td>o</td>\n",
       "      <td>True</td>\n",
       "    </tr>\n",
       "    <tr>\n",
       "      <th>1</th>\n",
       "      <td>x</td>\n",
       "      <td>x</td>\n",
       "      <td>x</td>\n",
       "      <td>x</td>\n",
       "      <td>o</td>\n",
       "      <td>o</td>\n",
       "      <td>o</td>\n",
       "      <td>x</td>\n",
       "      <td>o</td>\n",
       "      <td>True</td>\n",
       "    </tr>\n",
       "    <tr>\n",
       "      <th>2</th>\n",
       "      <td>x</td>\n",
       "      <td>x</td>\n",
       "      <td>x</td>\n",
       "      <td>x</td>\n",
       "      <td>o</td>\n",
       "      <td>o</td>\n",
       "      <td>o</td>\n",
       "      <td>o</td>\n",
       "      <td>x</td>\n",
       "      <td>True</td>\n",
       "    </tr>\n",
       "    <tr>\n",
       "      <th>3</th>\n",
       "      <td>x</td>\n",
       "      <td>x</td>\n",
       "      <td>x</td>\n",
       "      <td>x</td>\n",
       "      <td>o</td>\n",
       "      <td>o</td>\n",
       "      <td>o</td>\n",
       "      <td>b</td>\n",
       "      <td>b</td>\n",
       "      <td>True</td>\n",
       "    </tr>\n",
       "    <tr>\n",
       "      <th>4</th>\n",
       "      <td>x</td>\n",
       "      <td>x</td>\n",
       "      <td>x</td>\n",
       "      <td>x</td>\n",
       "      <td>o</td>\n",
       "      <td>o</td>\n",
       "      <td>b</td>\n",
       "      <td>o</td>\n",
       "      <td>b</td>\n",
       "      <td>True</td>\n",
       "    </tr>\n",
       "  </tbody>\n",
       "</table>\n",
       "</div>"
      ],
      "text/plain": [
       "  top-left-square top-middle-square top-right-square middle-left-square  \\\n",
       "0               x                 x                x                  x   \n",
       "1               x                 x                x                  x   \n",
       "2               x                 x                x                  x   \n",
       "3               x                 x                x                  x   \n",
       "4               x                 x                x                  x   \n",
       "\n",
       "  middle-middle-square middle-right-square bottom-left-square  \\\n",
       "0                    o                   o                  x   \n",
       "1                    o                   o                  o   \n",
       "2                    o                   o                  o   \n",
       "3                    o                   o                  o   \n",
       "4                    o                   o                  b   \n",
       "\n",
       "  bottom-middle-square bottom-right-square  Class  \n",
       "0                    o                   o   True  \n",
       "1                    x                   o   True  \n",
       "2                    o                   x   True  \n",
       "3                    b                   b   True  \n",
       "4                    o                   b   True  "
      ]
     },
     "execution_count": 17,
     "metadata": {},
     "output_type": "execute_result"
    }
   ],
   "source": [
    "column_names = [\n",
    "        'top-left-square', 'top-middle-square', 'top-right-square',\n",
    "        'middle-left-square', 'middle-middle-square', 'middle-right-square',\n",
    "        'bottom-left-square', 'bottom-middle-square', 'bottom-right-square',\n",
    "        'Class'\n",
    "    ]\n",
    "df = pd.read_csv('data_sets/tic-tac-toe.data', names = column_names)\n",
    "df['Class'] = [x == 'positive' for x in df['Class']]\n",
    "df.head()"
   ]
  },
  {
   "cell_type": "code",
   "execution_count": 18,
   "metadata": {
    "tags": []
   },
   "outputs": [],
   "source": [
    "X = df[column_names[:-1]]\n",
    "y = df['Class']\n",
    "X_train, X_test, y_train, y_test = train_test_split(X, y, test_size=0.3, random_state=42)"
   ]
  },
  {
   "cell_type": "code",
   "execution_count": 19,
   "metadata": {
    "tags": []
   },
   "outputs": [],
   "source": [
    "pat_cls = fcalc.classifier.PatternBinaryClassifier(X_train.values, y_train.to_numpy(), \n",
    "                                             categorical=np.arange(X_train.shape[1]))"
   ]
  },
  {
   "cell_type": "code",
   "execution_count": 20,
   "metadata": {
    "tags": []
   },
   "outputs": [],
   "source": [
    "pat_cls.predict(X_test.values)"
   ]
  },
  {
   "cell_type": "code",
   "execution_count": 21,
   "metadata": {
    "tags": []
   },
   "outputs": [
    {
     "name": "stdout",
     "output_type": "stream",
     "text": [
      "0.9930555555555556\n",
      "0.9948453608247423\n"
     ]
    }
   ],
   "source": [
    "from sklearn.metrics import accuracy_score, f1_score\n",
    "\n",
    "print(accuracy_score(y_test, pat_cls.predictions))\n",
    "print(f1_score(y_test, pat_cls.predictions))"
   ]
  },
  {
   "cell_type": "code",
   "execution_count": 38,
   "metadata": {
    "tags": []
   },
   "outputs": [
    {
     "data": {
      "text/html": [
       "<div>\n",
       "<style scoped>\n",
       "    .dataframe tbody tr th:only-of-type {\n",
       "        vertical-align: middle;\n",
       "    }\n",
       "\n",
       "    .dataframe tbody tr th {\n",
       "        vertical-align: top;\n",
       "    }\n",
       "\n",
       "    .dataframe thead th {\n",
       "        text-align: right;\n",
       "    }\n",
       "</style>\n",
       "<table border=\"1\" class=\"dataframe\">\n",
       "  <thead>\n",
       "    <tr style=\"text-align: right;\">\n",
       "      <th></th>\n",
       "      <th>sepal_length</th>\n",
       "      <th>sepal_width</th>\n",
       "      <th>petal_length</th>\n",
       "      <th>petal_width</th>\n",
       "      <th>species</th>\n",
       "    </tr>\n",
       "  </thead>\n",
       "  <tbody>\n",
       "    <tr>\n",
       "      <th>141</th>\n",
       "      <td>6.9</td>\n",
       "      <td>3.1</td>\n",
       "      <td>5.1</td>\n",
       "      <td>2.3</td>\n",
       "      <td>False</td>\n",
       "    </tr>\n",
       "    <tr>\n",
       "      <th>23</th>\n",
       "      <td>5.1</td>\n",
       "      <td>3.3</td>\n",
       "      <td>1.7</td>\n",
       "      <td>0.5</td>\n",
       "      <td>True</td>\n",
       "    </tr>\n",
       "    <tr>\n",
       "      <th>124</th>\n",
       "      <td>6.7</td>\n",
       "      <td>3.3</td>\n",
       "      <td>5.7</td>\n",
       "      <td>2.1</td>\n",
       "      <td>False</td>\n",
       "    </tr>\n",
       "    <tr>\n",
       "      <th>115</th>\n",
       "      <td>6.4</td>\n",
       "      <td>3.2</td>\n",
       "      <td>5.3</td>\n",
       "      <td>2.3</td>\n",
       "      <td>False</td>\n",
       "    </tr>\n",
       "    <tr>\n",
       "      <th>15</th>\n",
       "      <td>5.7</td>\n",
       "      <td>4.4</td>\n",
       "      <td>1.5</td>\n",
       "      <td>0.4</td>\n",
       "      <td>True</td>\n",
       "    </tr>\n",
       "    <tr>\n",
       "      <th>50</th>\n",
       "      <td>7.0</td>\n",
       "      <td>3.2</td>\n",
       "      <td>4.7</td>\n",
       "      <td>1.4</td>\n",
       "      <td>False</td>\n",
       "    </tr>\n",
       "    <tr>\n",
       "      <th>12</th>\n",
       "      <td>4.8</td>\n",
       "      <td>3.0</td>\n",
       "      <td>1.4</td>\n",
       "      <td>0.1</td>\n",
       "      <td>True</td>\n",
       "    </tr>\n",
       "    <tr>\n",
       "      <th>133</th>\n",
       "      <td>6.3</td>\n",
       "      <td>2.8</td>\n",
       "      <td>5.1</td>\n",
       "      <td>1.5</td>\n",
       "      <td>False</td>\n",
       "    </tr>\n",
       "    <tr>\n",
       "      <th>29</th>\n",
       "      <td>4.7</td>\n",
       "      <td>3.2</td>\n",
       "      <td>1.6</td>\n",
       "      <td>0.2</td>\n",
       "      <td>True</td>\n",
       "    </tr>\n",
       "    <tr>\n",
       "      <th>87</th>\n",
       "      <td>6.3</td>\n",
       "      <td>2.3</td>\n",
       "      <td>4.4</td>\n",
       "      <td>1.3</td>\n",
       "      <td>False</td>\n",
       "    </tr>\n",
       "  </tbody>\n",
       "</table>\n",
       "</div>"
      ],
      "text/plain": [
       "     sepal_length  sepal_width  petal_length  petal_width  species\n",
       "141           6.9          3.1           5.1          2.3    False\n",
       "23            5.1          3.3           1.7          0.5     True\n",
       "124           6.7          3.3           5.7          2.1    False\n",
       "115           6.4          3.2           5.3          2.3    False\n",
       "15            5.7          4.4           1.5          0.4     True\n",
       "50            7.0          3.2           4.7          1.4    False\n",
       "12            4.8          3.0           1.4          0.1     True\n",
       "133           6.3          2.8           5.1          1.5    False\n",
       "29            4.7          3.2           1.6          0.2     True\n",
       "87            6.3          2.3           4.4          1.3    False"
      ]
     },
     "execution_count": 38,
     "metadata": {},
     "output_type": "execute_result"
    }
   ],
   "source": [
    "df = pd.read_csv('data_sets/iris.data', names=['sepal_length',\t'sepal_width',\t'petal_length',\t'petal_width','species'])\n",
    "df['species'] = [x == 'Iris-setosa' for x in df['species']]\n",
    "df.sample(10)"
   ]
  },
  {
   "cell_type": "code",
   "execution_count": 39,
   "metadata": {
    "tags": []
   },
   "outputs": [],
   "source": [
    "X = df.iloc[:,:-1]\n",
    "y = df['species']\n",
    "X_train, X_test, y_train, y_test = train_test_split(X, y, test_size=0.3, random_state=42)"
   ]
  },
  {
   "cell_type": "code",
   "execution_count": 40,
   "metadata": {
    "tags": []
   },
   "outputs": [],
   "source": [
    "pat_cls = fcalc.classifier.PatternBinaryClassifier(X_train.values, y_train.to_numpy())"
   ]
  },
  {
   "cell_type": "code",
   "execution_count": 41,
   "metadata": {
    "tags": []
   },
   "outputs": [],
   "source": [
    "pat_cls.predict(X_test.values)"
   ]
  },
  {
   "cell_type": "code",
   "execution_count": 42,
   "metadata": {
    "tags": []
   },
   "outputs": [
    {
     "name": "stdout",
     "output_type": "stream",
     "text": [
      "accuracy: 1.0\n",
      "f1 score: 1.0\n"
     ]
    }
   ],
   "source": [
    "from sklearn.metrics import accuracy_score, f1_score\n",
    "print(\"accuracy:\",round(accuracy_score(y_test, pat_cls.predictions),4))\n",
    "print(\"f1 score:\",round(f1_score(y_test, pat_cls.predictions),4))"
   ]
  },
  {
   "cell_type": "code",
   "execution_count": 45,
   "metadata": {
    "tags": []
   },
   "outputs": [
    {
     "name": "stdout",
     "output_type": "stream",
     "text": [
      "Cross-validation accuracies: [0.9333333333333333, 0.9, 1.0, 0.9666666666666667, 1.0]\n",
      "Average accuracy: 0.9600000000000002\n"
     ]
    }
   ],
   "source": [
    "from sklearn.model_selection import KFold\n",
    "import numpy as np\n",
    "\n",
    "def cross_validation_fca(model_class, context, labels, k=5):\n",
    "    kf = KFold(n_splits=k)\n",
    "    accuracies = []\n",
    "\n",
    "    for train_index, test_index in kf.split(context):\n",
    "        X_train, X_test = context[train_index], context[test_index]\n",
    "        y_train, y_test = labels[train_index], labels[test_index]\n",
    "        model = model_class(X_train, y_train)\n",
    "        model.predict(X_test) \n",
    "        predictions = model.predictions  \n",
    "        accuracy = np.mean(predictions == y_test)\n",
    "        accuracies.append(accuracy)\n",
    "\n",
    "    return accuracies\n",
    "\n",
    "accuracies = cross_validation_fca(fcalc.classifier.PatternBinaryClassifier, X.values, y.to_numpy(), k=5)\n",
    "print(\"Cross-validation accuracies:\", accuracies)\n",
    "print(\"Average accuracy:\", np.mean(accuracies))\n"
   ]
  },
  {
   "cell_type": "code",
   "execution_count": 27,
   "metadata": {
    "tags": []
   },
   "outputs": [
    {
     "data": {
      "text/html": [
       "<div>\n",
       "<style scoped>\n",
       "    .dataframe tbody tr th:only-of-type {\n",
       "        vertical-align: middle;\n",
       "    }\n",
       "\n",
       "    .dataframe tbody tr th {\n",
       "        vertical-align: top;\n",
       "    }\n",
       "\n",
       "    .dataframe thead th {\n",
       "        text-align: right;\n",
       "    }\n",
       "</style>\n",
       "<table border=\"1\" class=\"dataframe\">\n",
       "  <thead>\n",
       "    <tr style=\"text-align: right;\">\n",
       "      <th></th>\n",
       "      <th>age</th>\n",
       "      <th>anaemia</th>\n",
       "      <th>creatinine_phosphokinase</th>\n",
       "      <th>diabetes</th>\n",
       "      <th>ejection_fraction</th>\n",
       "      <th>high_blood_pressure</th>\n",
       "      <th>platelets</th>\n",
       "      <th>serum_creatinine</th>\n",
       "      <th>serum_sodium</th>\n",
       "      <th>sex</th>\n",
       "      <th>smoking</th>\n",
       "      <th>time</th>\n",
       "      <th>DEATH_EVENT</th>\n",
       "    </tr>\n",
       "  </thead>\n",
       "  <tbody>\n",
       "    <tr>\n",
       "      <th>259</th>\n",
       "      <td>53.0</td>\n",
       "      <td>0</td>\n",
       "      <td>56</td>\n",
       "      <td>0</td>\n",
       "      <td>50</td>\n",
       "      <td>0</td>\n",
       "      <td>308000.0</td>\n",
       "      <td>0.7</td>\n",
       "      <td>135</td>\n",
       "      <td>1</td>\n",
       "      <td>1</td>\n",
       "      <td>231</td>\n",
       "      <td>0</td>\n",
       "    </tr>\n",
       "    <tr>\n",
       "      <th>169</th>\n",
       "      <td>70.0</td>\n",
       "      <td>0</td>\n",
       "      <td>835</td>\n",
       "      <td>0</td>\n",
       "      <td>35</td>\n",
       "      <td>1</td>\n",
       "      <td>305000.0</td>\n",
       "      <td>0.8</td>\n",
       "      <td>133</td>\n",
       "      <td>0</td>\n",
       "      <td>0</td>\n",
       "      <td>145</td>\n",
       "      <td>0</td>\n",
       "    </tr>\n",
       "    <tr>\n",
       "      <th>2</th>\n",
       "      <td>65.0</td>\n",
       "      <td>0</td>\n",
       "      <td>146</td>\n",
       "      <td>0</td>\n",
       "      <td>20</td>\n",
       "      <td>0</td>\n",
       "      <td>162000.0</td>\n",
       "      <td>1.3</td>\n",
       "      <td>129</td>\n",
       "      <td>1</td>\n",
       "      <td>1</td>\n",
       "      <td>7</td>\n",
       "      <td>1</td>\n",
       "    </tr>\n",
       "    <tr>\n",
       "      <th>166</th>\n",
       "      <td>53.0</td>\n",
       "      <td>0</td>\n",
       "      <td>196</td>\n",
       "      <td>0</td>\n",
       "      <td>60</td>\n",
       "      <td>0</td>\n",
       "      <td>220000.0</td>\n",
       "      <td>0.7</td>\n",
       "      <td>133</td>\n",
       "      <td>1</td>\n",
       "      <td>1</td>\n",
       "      <td>134</td>\n",
       "      <td>0</td>\n",
       "    </tr>\n",
       "    <tr>\n",
       "      <th>225</th>\n",
       "      <td>75.0</td>\n",
       "      <td>0</td>\n",
       "      <td>675</td>\n",
       "      <td>1</td>\n",
       "      <td>60</td>\n",
       "      <td>0</td>\n",
       "      <td>265000.0</td>\n",
       "      <td>1.4</td>\n",
       "      <td>125</td>\n",
       "      <td>0</td>\n",
       "      <td>0</td>\n",
       "      <td>205</td>\n",
       "      <td>0</td>\n",
       "    </tr>\n",
       "  </tbody>\n",
       "</table>\n",
       "</div>"
      ],
      "text/plain": [
       "      age  anaemia  creatinine_phosphokinase  diabetes  ejection_fraction  \\\n",
       "259  53.0        0                        56         0                 50   \n",
       "169  70.0        0                       835         0                 35   \n",
       "2    65.0        0                       146         0                 20   \n",
       "166  53.0        0                       196         0                 60   \n",
       "225  75.0        0                       675         1                 60   \n",
       "\n",
       "     high_blood_pressure  platelets  serum_creatinine  serum_sodium  sex  \\\n",
       "259                    0   308000.0               0.7           135    1   \n",
       "169                    1   305000.0               0.8           133    0   \n",
       "2                      0   162000.0               1.3           129    1   \n",
       "166                    0   220000.0               0.7           133    1   \n",
       "225                    0   265000.0               1.4           125    0   \n",
       "\n",
       "     smoking  time  DEATH_EVENT  \n",
       "259        1   231            0  \n",
       "169        0   145            0  \n",
       "2          1     7            1  \n",
       "166        1   134            0  \n",
       "225        0   205            0  "
      ]
     },
     "execution_count": 27,
     "metadata": {},
     "output_type": "execute_result"
    }
   ],
   "source": [
    "df = pd.read_csv('data_sets/heart_failure_clinical_records_dataset.csv')\n",
    "df.sample(5)"
   ]
  },
  {
   "cell_type": "code",
   "execution_count": 28,
   "metadata": {
    "tags": []
   },
   "outputs": [],
   "source": [
    "X = df.iloc[:,:-1]\n",
    "y = df['DEATH_EVENT']\n",
    "X_train, X_test, y_train, y_test = train_test_split(X, y, test_size=0.3, random_state=42)"
   ]
  },
  {
   "cell_type": "code",
   "execution_count": 29,
   "metadata": {
    "tags": []
   },
   "outputs": [],
   "source": [
    "pat_cls = fcalc.classifier.PatternBinaryClassifier(X_train.values, y_train.to_numpy(), \n",
    "                                                   categorical=np.array([1,3,5,9,10]))"
   ]
  },
  {
   "cell_type": "code",
   "execution_count": 30,
   "metadata": {
    "tags": []
   },
   "outputs": [],
   "source": [
    "pat_cls.predict(X_test.values)"
   ]
  },
  {
   "cell_type": "code",
   "execution_count": 33,
   "metadata": {
    "tags": []
   },
   "outputs": [
    {
     "name": "stdout",
     "output_type": "stream",
     "text": [
      "accuracy: 0.6778\n",
      "f1 score: 0.6652\n"
     ]
    }
   ],
   "source": [
    "print(\"accuracy:\", round(accuracy_score(y_test, pat_cls.predictions), 4))\n",
    "print(\"f1 score:\", round(f1_score(y_test, pat_cls.predictions, average='weighted'), 4))"
   ]
  },
  {
   "cell_type": "markdown",
   "metadata": {},
   "source": [
    "# Bank "
   ]
  },
  {
   "cell_type": "code",
   "execution_count": 61,
   "metadata": {
    "tags": []
   },
   "outputs": [],
   "source": [
    "df = pd.read_csv('data_sets/bank.csv')"
   ]
  },
  {
   "cell_type": "code",
   "execution_count": 63,
   "metadata": {
    "tags": []
   },
   "outputs": [
    {
     "data": {
      "text/plain": [
       "{'job': array(['admin.', 'technician', 'services', 'management', 'retired',\n",
       "        'blue-collar', 'unemployed', 'entrepreneur', 'housemaid',\n",
       "        'unknown', 'self-employed', 'student'], dtype=object),\n",
       " 'marital': array(['married', 'single', 'divorced'], dtype=object),\n",
       " 'education': array(['secondary', 'tertiary', 'primary', 'unknown'], dtype=object),\n",
       " 'default': array(['no', 'yes'], dtype=object),\n",
       " 'housing': array(['yes', 'no'], dtype=object),\n",
       " 'loan': array(['no', 'yes'], dtype=object),\n",
       " 'contact': array(['unknown', 'cellular', 'telephone'], dtype=object),\n",
       " 'month': array(['may', 'jun', 'jul', 'aug', 'oct', 'nov', 'dec', 'jan', 'feb',\n",
       "        'mar', 'apr', 'sep'], dtype=object),\n",
       " 'poutcome': array(['unknown', 'other', 'failure', 'success'], dtype=object),\n",
       " 'deposit': array(['yes', 'no'], dtype=object)}"
      ]
     },
     "execution_count": 63,
     "metadata": {},
     "output_type": "execute_result"
    }
   ],
   "source": [
    "categorical_columns = ['job', 'marital', 'education', 'default', 'housing', 'loan', 'contact', 'month', 'poutcome', 'deposit']\n",
    "unique_values = {column: df[column].unique() for column in categorical_columns}\n",
    "unique_values"
   ]
  },
  {
   "cell_type": "code",
   "execution_count": 65,
   "metadata": {
    "tags": []
   },
   "outputs": [
    {
     "data": {
      "text/html": [
       "<div>\n",
       "<style scoped>\n",
       "    .dataframe tbody tr th:only-of-type {\n",
       "        vertical-align: middle;\n",
       "    }\n",
       "\n",
       "    .dataframe tbody tr th {\n",
       "        vertical-align: top;\n",
       "    }\n",
       "\n",
       "    .dataframe thead th {\n",
       "        text-align: right;\n",
       "    }\n",
       "</style>\n",
       "<table border=\"1\" class=\"dataframe\">\n",
       "  <thead>\n",
       "    <tr style=\"text-align: right;\">\n",
       "      <th></th>\n",
       "      <th>age</th>\n",
       "      <th>balance</th>\n",
       "      <th>day</th>\n",
       "      <th>duration</th>\n",
       "      <th>campaign</th>\n",
       "      <th>pdays</th>\n",
       "      <th>previous</th>\n",
       "    </tr>\n",
       "  </thead>\n",
       "  <tbody>\n",
       "    <tr>\n",
       "      <th>count</th>\n",
       "      <td>11162.000000</td>\n",
       "      <td>11162.000000</td>\n",
       "      <td>11162.000000</td>\n",
       "      <td>11162.000000</td>\n",
       "      <td>11162.000000</td>\n",
       "      <td>11162.000000</td>\n",
       "      <td>11162.000000</td>\n",
       "    </tr>\n",
       "    <tr>\n",
       "      <th>mean</th>\n",
       "      <td>41.231948</td>\n",
       "      <td>1528.538524</td>\n",
       "      <td>15.658036</td>\n",
       "      <td>371.993818</td>\n",
       "      <td>2.508421</td>\n",
       "      <td>51.330407</td>\n",
       "      <td>0.832557</td>\n",
       "    </tr>\n",
       "    <tr>\n",
       "      <th>std</th>\n",
       "      <td>11.913369</td>\n",
       "      <td>3225.413326</td>\n",
       "      <td>8.420740</td>\n",
       "      <td>347.128386</td>\n",
       "      <td>2.722077</td>\n",
       "      <td>108.758282</td>\n",
       "      <td>2.292007</td>\n",
       "    </tr>\n",
       "    <tr>\n",
       "      <th>min</th>\n",
       "      <td>18.000000</td>\n",
       "      <td>-6847.000000</td>\n",
       "      <td>1.000000</td>\n",
       "      <td>2.000000</td>\n",
       "      <td>1.000000</td>\n",
       "      <td>-1.000000</td>\n",
       "      <td>0.000000</td>\n",
       "    </tr>\n",
       "    <tr>\n",
       "      <th>25%</th>\n",
       "      <td>32.000000</td>\n",
       "      <td>122.000000</td>\n",
       "      <td>8.000000</td>\n",
       "      <td>138.000000</td>\n",
       "      <td>1.000000</td>\n",
       "      <td>-1.000000</td>\n",
       "      <td>0.000000</td>\n",
       "    </tr>\n",
       "    <tr>\n",
       "      <th>50%</th>\n",
       "      <td>39.000000</td>\n",
       "      <td>550.000000</td>\n",
       "      <td>15.000000</td>\n",
       "      <td>255.000000</td>\n",
       "      <td>2.000000</td>\n",
       "      <td>-1.000000</td>\n",
       "      <td>0.000000</td>\n",
       "    </tr>\n",
       "    <tr>\n",
       "      <th>75%</th>\n",
       "      <td>49.000000</td>\n",
       "      <td>1708.000000</td>\n",
       "      <td>22.000000</td>\n",
       "      <td>496.000000</td>\n",
       "      <td>3.000000</td>\n",
       "      <td>20.750000</td>\n",
       "      <td>1.000000</td>\n",
       "    </tr>\n",
       "    <tr>\n",
       "      <th>max</th>\n",
       "      <td>95.000000</td>\n",
       "      <td>81204.000000</td>\n",
       "      <td>31.000000</td>\n",
       "      <td>3881.000000</td>\n",
       "      <td>63.000000</td>\n",
       "      <td>854.000000</td>\n",
       "      <td>58.000000</td>\n",
       "    </tr>\n",
       "  </tbody>\n",
       "</table>\n",
       "</div>"
      ],
      "text/plain": [
       "                age       balance           day      duration      campaign  \\\n",
       "count  11162.000000  11162.000000  11162.000000  11162.000000  11162.000000   \n",
       "mean      41.231948   1528.538524     15.658036    371.993818      2.508421   \n",
       "std       11.913369   3225.413326      8.420740    347.128386      2.722077   \n",
       "min       18.000000  -6847.000000      1.000000      2.000000      1.000000   \n",
       "25%       32.000000    122.000000      8.000000    138.000000      1.000000   \n",
       "50%       39.000000    550.000000     15.000000    255.000000      2.000000   \n",
       "75%       49.000000   1708.000000     22.000000    496.000000      3.000000   \n",
       "max       95.000000  81204.000000     31.000000   3881.000000     63.000000   \n",
       "\n",
       "              pdays      previous  \n",
       "count  11162.000000  11162.000000  \n",
       "mean      51.330407      0.832557  \n",
       "std      108.758282      2.292007  \n",
       "min       -1.000000      0.000000  \n",
       "25%       -1.000000      0.000000  \n",
       "50%       -1.000000      0.000000  \n",
       "75%       20.750000      1.000000  \n",
       "max      854.000000     58.000000  "
      ]
     },
     "execution_count": 65,
     "metadata": {},
     "output_type": "execute_result"
    }
   ],
   "source": [
    "numerical_columns = ['age', 'balance', 'day', 'duration', 'campaign', 'pdays', 'previous']\n",
    "numerical_stats = df[numerical_columns].describe()\n",
    "numerical_stats"
   ]
  },
  {
   "cell_type": "code",
   "execution_count": 67,
   "metadata": {
    "tags": []
   },
   "outputs": [
    {
     "data": {
      "text/html": [
       "<div>\n",
       "<style scoped>\n",
       "    .dataframe tbody tr th:only-of-type {\n",
       "        vertical-align: middle;\n",
       "    }\n",
       "\n",
       "    .dataframe tbody tr th {\n",
       "        vertical-align: top;\n",
       "    }\n",
       "\n",
       "    .dataframe thead th {\n",
       "        text-align: right;\n",
       "    }\n",
       "</style>\n",
       "<table border=\"1\" class=\"dataframe\">\n",
       "  <thead>\n",
       "    <tr style=\"text-align: right;\">\n",
       "      <th></th>\n",
       "      <th>job</th>\n",
       "      <th>marital</th>\n",
       "      <th>education</th>\n",
       "      <th>default</th>\n",
       "      <th>housing</th>\n",
       "      <th>loan</th>\n",
       "      <th>contact</th>\n",
       "      <th>month</th>\n",
       "      <th>poutcome</th>\n",
       "      <th>deposit</th>\n",
       "      <th>...</th>\n",
       "      <th>campaign_1-2</th>\n",
       "      <th>campaign_3-4</th>\n",
       "      <th>campaign_5+</th>\n",
       "      <th>pdays_not_contacted</th>\n",
       "      <th>pdays_0-100</th>\n",
       "      <th>pdays_101-200</th>\n",
       "      <th>pdays_201+</th>\n",
       "      <th>previous_0</th>\n",
       "      <th>previous_1-2</th>\n",
       "      <th>previous_3+</th>\n",
       "    </tr>\n",
       "  </thead>\n",
       "  <tbody>\n",
       "    <tr>\n",
       "      <th>0</th>\n",
       "      <td>admin.</td>\n",
       "      <td>married</td>\n",
       "      <td>secondary</td>\n",
       "      <td>no</td>\n",
       "      <td>yes</td>\n",
       "      <td>no</td>\n",
       "      <td>unknown</td>\n",
       "      <td>may</td>\n",
       "      <td>unknown</td>\n",
       "      <td>yes</td>\n",
       "      <td>...</td>\n",
       "      <td>True</td>\n",
       "      <td>False</td>\n",
       "      <td>False</td>\n",
       "      <td>True</td>\n",
       "      <td>False</td>\n",
       "      <td>False</td>\n",
       "      <td>False</td>\n",
       "      <td>True</td>\n",
       "      <td>False</td>\n",
       "      <td>False</td>\n",
       "    </tr>\n",
       "    <tr>\n",
       "      <th>1</th>\n",
       "      <td>admin.</td>\n",
       "      <td>married</td>\n",
       "      <td>secondary</td>\n",
       "      <td>no</td>\n",
       "      <td>no</td>\n",
       "      <td>no</td>\n",
       "      <td>unknown</td>\n",
       "      <td>may</td>\n",
       "      <td>unknown</td>\n",
       "      <td>yes</td>\n",
       "      <td>...</td>\n",
       "      <td>True</td>\n",
       "      <td>False</td>\n",
       "      <td>False</td>\n",
       "      <td>True</td>\n",
       "      <td>False</td>\n",
       "      <td>False</td>\n",
       "      <td>False</td>\n",
       "      <td>True</td>\n",
       "      <td>False</td>\n",
       "      <td>False</td>\n",
       "    </tr>\n",
       "    <tr>\n",
       "      <th>2</th>\n",
       "      <td>technician</td>\n",
       "      <td>married</td>\n",
       "      <td>secondary</td>\n",
       "      <td>no</td>\n",
       "      <td>yes</td>\n",
       "      <td>no</td>\n",
       "      <td>unknown</td>\n",
       "      <td>may</td>\n",
       "      <td>unknown</td>\n",
       "      <td>yes</td>\n",
       "      <td>...</td>\n",
       "      <td>True</td>\n",
       "      <td>False</td>\n",
       "      <td>False</td>\n",
       "      <td>True</td>\n",
       "      <td>False</td>\n",
       "      <td>False</td>\n",
       "      <td>False</td>\n",
       "      <td>True</td>\n",
       "      <td>False</td>\n",
       "      <td>False</td>\n",
       "    </tr>\n",
       "    <tr>\n",
       "      <th>3</th>\n",
       "      <td>services</td>\n",
       "      <td>married</td>\n",
       "      <td>secondary</td>\n",
       "      <td>no</td>\n",
       "      <td>yes</td>\n",
       "      <td>no</td>\n",
       "      <td>unknown</td>\n",
       "      <td>may</td>\n",
       "      <td>unknown</td>\n",
       "      <td>yes</td>\n",
       "      <td>...</td>\n",
       "      <td>True</td>\n",
       "      <td>False</td>\n",
       "      <td>False</td>\n",
       "      <td>True</td>\n",
       "      <td>False</td>\n",
       "      <td>False</td>\n",
       "      <td>False</td>\n",
       "      <td>True</td>\n",
       "      <td>False</td>\n",
       "      <td>False</td>\n",
       "    </tr>\n",
       "    <tr>\n",
       "      <th>4</th>\n",
       "      <td>admin.</td>\n",
       "      <td>married</td>\n",
       "      <td>tertiary</td>\n",
       "      <td>no</td>\n",
       "      <td>no</td>\n",
       "      <td>no</td>\n",
       "      <td>unknown</td>\n",
       "      <td>may</td>\n",
       "      <td>unknown</td>\n",
       "      <td>yes</td>\n",
       "      <td>...</td>\n",
       "      <td>True</td>\n",
       "      <td>False</td>\n",
       "      <td>False</td>\n",
       "      <td>True</td>\n",
       "      <td>False</td>\n",
       "      <td>False</td>\n",
       "      <td>False</td>\n",
       "      <td>True</td>\n",
       "      <td>False</td>\n",
       "      <td>False</td>\n",
       "    </tr>\n",
       "  </tbody>\n",
       "</table>\n",
       "<p>5 rows × 38 columns</p>\n",
       "</div>"
      ],
      "text/plain": [
       "          job  marital  education default housing loan  contact month  \\\n",
       "0      admin.  married  secondary      no     yes   no  unknown   may   \n",
       "1      admin.  married  secondary      no      no   no  unknown   may   \n",
       "2  technician  married  secondary      no     yes   no  unknown   may   \n",
       "3    services  married  secondary      no     yes   no  unknown   may   \n",
       "4      admin.  married   tertiary      no      no   no  unknown   may   \n",
       "\n",
       "  poutcome deposit  ...  campaign_1-2  campaign_3-4  campaign_5+  \\\n",
       "0  unknown     yes  ...          True         False        False   \n",
       "1  unknown     yes  ...          True         False        False   \n",
       "2  unknown     yes  ...          True         False        False   \n",
       "3  unknown     yes  ...          True         False        False   \n",
       "4  unknown     yes  ...          True         False        False   \n",
       "\n",
       "   pdays_not_contacted  pdays_0-100  pdays_101-200  pdays_201+  previous_0  \\\n",
       "0                 True        False          False       False        True   \n",
       "1                 True        False          False       False        True   \n",
       "2                 True        False          False       False        True   \n",
       "3                 True        False          False       False        True   \n",
       "4                 True        False          False       False        True   \n",
       "\n",
       "   previous_1-2  previous_3+  \n",
       "0         False        False  \n",
       "1         False        False  \n",
       "2         False        False  \n",
       "3         False        False  \n",
       "4         False        False  \n",
       "\n",
       "[5 rows x 38 columns]"
      ]
     },
     "execution_count": 67,
     "metadata": {},
     "output_type": "execute_result"
    }
   ],
   "source": [
    "def bin_numerical_data(data, column, bins, labels):\n",
    "    data[column] = pd.cut(data[column], bins=bins, labels=labels, right=False)\n",
    "    return pd.get_dummies(data, columns=[column])\n",
    "\n",
    "# Определение диапазонов и меток для каждой числовой переменной\n",
    "age_bins = [18, 31, 41, 51, 61, 96]\n",
    "age_labels = ['18-30', '31-40', '41-50', '51-60', '61+']\n",
    "\n",
    "balance_bins = [-float('inf'), 0, 1001, 3001, 5001, float('inf')]\n",
    "balance_labels = ['negative', '0-1000', '1001-3000', '3001-5000', '5001+']\n",
    "\n",
    "day_bins = [1, 11, 21, 32]\n",
    "day_labels = ['1-10', '11-20', '21-31']\n",
    "\n",
    "duration_bins = [0, 101, 201, 301, 401, float('inf')]\n",
    "duration_labels = ['0-100', '101-200', '201-300', '301-400', '401+']\n",
    "\n",
    "campaign_bins = [1, 3, 5, float('inf')]\n",
    "campaign_labels = ['1-2', '3-4', '5+']\n",
    "\n",
    "pdays_bins = [-float('inf'), 0, 101, 201, float('inf')]\n",
    "pdays_labels = ['not_contacted', '0-100', '101-200', '201+']\n",
    "\n",
    "previous_bins = [0, 1, 3, float('inf')]\n",
    "previous_labels = ['0', '1-2', '3+']\n",
    "for column, bins, labels in zip(numerical_columns, \n",
    "                                [age_bins, balance_bins, day_bins, duration_bins, campaign_bins, pdays_bins, previous_bins], \n",
    "                                [age_labels, balance_labels, day_labels, duration_labels, campaign_labels, pdays_labels, previous_labels]):\n",
    "    df = bin_numerical_data(df, column, bins, labels)\n",
    "df.head()"
   ]
  },
  {
   "cell_type": "code",
   "execution_count": 68,
   "metadata": {
    "tags": []
   },
   "outputs": [
    {
     "data": {
      "text/html": [
       "<div>\n",
       "<style scoped>\n",
       "    .dataframe tbody tr th:only-of-type {\n",
       "        vertical-align: middle;\n",
       "    }\n",
       "\n",
       "    .dataframe tbody tr th {\n",
       "        vertical-align: top;\n",
       "    }\n",
       "\n",
       "    .dataframe thead th {\n",
       "        text-align: right;\n",
       "    }\n",
       "</style>\n",
       "<table border=\"1\" class=\"dataframe\">\n",
       "  <thead>\n",
       "    <tr style=\"text-align: right;\">\n",
       "      <th></th>\n",
       "      <th>age_18-30</th>\n",
       "      <th>age_31-40</th>\n",
       "      <th>age_41-50</th>\n",
       "      <th>age_51-60</th>\n",
       "      <th>age_61+</th>\n",
       "      <th>balance_negative</th>\n",
       "      <th>balance_0-1000</th>\n",
       "      <th>balance_1001-3000</th>\n",
       "      <th>balance_3001-5000</th>\n",
       "      <th>balance_5001+</th>\n",
       "      <th>...</th>\n",
       "      <th>month_may</th>\n",
       "      <th>month_nov</th>\n",
       "      <th>month_oct</th>\n",
       "      <th>month_sep</th>\n",
       "      <th>poutcome_failure</th>\n",
       "      <th>poutcome_other</th>\n",
       "      <th>poutcome_success</th>\n",
       "      <th>poutcome_unknown</th>\n",
       "      <th>deposit_no</th>\n",
       "      <th>deposit_yes</th>\n",
       "    </tr>\n",
       "  </thead>\n",
       "  <tbody>\n",
       "    <tr>\n",
       "      <th>0</th>\n",
       "      <td>False</td>\n",
       "      <td>False</td>\n",
       "      <td>False</td>\n",
       "      <td>True</td>\n",
       "      <td>False</td>\n",
       "      <td>False</td>\n",
       "      <td>False</td>\n",
       "      <td>True</td>\n",
       "      <td>False</td>\n",
       "      <td>False</td>\n",
       "      <td>...</td>\n",
       "      <td>True</td>\n",
       "      <td>False</td>\n",
       "      <td>False</td>\n",
       "      <td>False</td>\n",
       "      <td>False</td>\n",
       "      <td>False</td>\n",
       "      <td>False</td>\n",
       "      <td>True</td>\n",
       "      <td>False</td>\n",
       "      <td>True</td>\n",
       "    </tr>\n",
       "    <tr>\n",
       "      <th>1</th>\n",
       "      <td>False</td>\n",
       "      <td>False</td>\n",
       "      <td>False</td>\n",
       "      <td>True</td>\n",
       "      <td>False</td>\n",
       "      <td>False</td>\n",
       "      <td>True</td>\n",
       "      <td>False</td>\n",
       "      <td>False</td>\n",
       "      <td>False</td>\n",
       "      <td>...</td>\n",
       "      <td>True</td>\n",
       "      <td>False</td>\n",
       "      <td>False</td>\n",
       "      <td>False</td>\n",
       "      <td>False</td>\n",
       "      <td>False</td>\n",
       "      <td>False</td>\n",
       "      <td>True</td>\n",
       "      <td>False</td>\n",
       "      <td>True</td>\n",
       "    </tr>\n",
       "    <tr>\n",
       "      <th>2</th>\n",
       "      <td>False</td>\n",
       "      <td>False</td>\n",
       "      <td>True</td>\n",
       "      <td>False</td>\n",
       "      <td>False</td>\n",
       "      <td>False</td>\n",
       "      <td>False</td>\n",
       "      <td>True</td>\n",
       "      <td>False</td>\n",
       "      <td>False</td>\n",
       "      <td>...</td>\n",
       "      <td>True</td>\n",
       "      <td>False</td>\n",
       "      <td>False</td>\n",
       "      <td>False</td>\n",
       "      <td>False</td>\n",
       "      <td>False</td>\n",
       "      <td>False</td>\n",
       "      <td>True</td>\n",
       "      <td>False</td>\n",
       "      <td>True</td>\n",
       "    </tr>\n",
       "    <tr>\n",
       "      <th>3</th>\n",
       "      <td>False</td>\n",
       "      <td>False</td>\n",
       "      <td>False</td>\n",
       "      <td>True</td>\n",
       "      <td>False</td>\n",
       "      <td>False</td>\n",
       "      <td>False</td>\n",
       "      <td>True</td>\n",
       "      <td>False</td>\n",
       "      <td>False</td>\n",
       "      <td>...</td>\n",
       "      <td>True</td>\n",
       "      <td>False</td>\n",
       "      <td>False</td>\n",
       "      <td>False</td>\n",
       "      <td>False</td>\n",
       "      <td>False</td>\n",
       "      <td>False</td>\n",
       "      <td>True</td>\n",
       "      <td>False</td>\n",
       "      <td>True</td>\n",
       "    </tr>\n",
       "    <tr>\n",
       "      <th>4</th>\n",
       "      <td>False</td>\n",
       "      <td>False</td>\n",
       "      <td>False</td>\n",
       "      <td>True</td>\n",
       "      <td>False</td>\n",
       "      <td>False</td>\n",
       "      <td>True</td>\n",
       "      <td>False</td>\n",
       "      <td>False</td>\n",
       "      <td>False</td>\n",
       "      <td>...</td>\n",
       "      <td>True</td>\n",
       "      <td>False</td>\n",
       "      <td>False</td>\n",
       "      <td>False</td>\n",
       "      <td>False</td>\n",
       "      <td>False</td>\n",
       "      <td>False</td>\n",
       "      <td>True</td>\n",
       "      <td>False</td>\n",
       "      <td>True</td>\n",
       "    </tr>\n",
       "  </tbody>\n",
       "</table>\n",
       "<p>5 rows × 74 columns</p>\n",
       "</div>"
      ],
      "text/plain": [
       "   age_18-30  age_31-40  age_41-50  age_51-60  age_61+  balance_negative  \\\n",
       "0      False      False      False       True    False             False   \n",
       "1      False      False      False       True    False             False   \n",
       "2      False      False       True      False    False             False   \n",
       "3      False      False      False       True    False             False   \n",
       "4      False      False      False       True    False             False   \n",
       "\n",
       "   balance_0-1000  balance_1001-3000  balance_3001-5000  balance_5001+  ...  \\\n",
       "0           False               True              False          False  ...   \n",
       "1            True              False              False          False  ...   \n",
       "2           False               True              False          False  ...   \n",
       "3           False               True              False          False  ...   \n",
       "4            True              False              False          False  ...   \n",
       "\n",
       "   month_may  month_nov  month_oct  month_sep  poutcome_failure  \\\n",
       "0       True      False      False      False             False   \n",
       "1       True      False      False      False             False   \n",
       "2       True      False      False      False             False   \n",
       "3       True      False      False      False             False   \n",
       "4       True      False      False      False             False   \n",
       "\n",
       "   poutcome_other  poutcome_success  poutcome_unknown  deposit_no  deposit_yes  \n",
       "0           False             False              True       False         True  \n",
       "1           False             False              True       False         True  \n",
       "2           False             False              True       False         True  \n",
       "3           False             False              True       False         True  \n",
       "4           False             False              True       False         True  \n",
       "\n",
       "[5 rows x 74 columns]"
      ]
     },
     "execution_count": 68,
     "metadata": {},
     "output_type": "execute_result"
    }
   ],
   "source": [
    "df = pd.get_dummies(df, columns=categorical_columns)\n",
    "df.head()"
   ]
  },
  {
   "cell_type": "code",
   "execution_count": 73,
   "metadata": {
    "tags": []
   },
   "outputs": [],
   "source": [
    "df = df.sample(150)"
   ]
  },
  {
   "cell_type": "code",
   "execution_count": 74,
   "metadata": {
    "tags": []
   },
   "outputs": [],
   "source": [
    "X = df.iloc[:,:-1]\n",
    "y = df['deposit_yes']\n",
    "X_train, X_test, y_train, y_test = train_test_split(X, y, test_size=0.3, random_state=42)"
   ]
  },
  {
   "cell_type": "code",
   "execution_count": 75,
   "metadata": {
    "tags": []
   },
   "outputs": [],
   "source": [
    "pat_cls = fcalc.classifier.BinarizedBinaryClassifier(X_train.values, y_train.to_numpy())"
   ]
  },
  {
   "cell_type": "code",
   "execution_count": 76,
   "metadata": {
    "tags": []
   },
   "outputs": [],
   "source": [
    "pat_cls.predict(X_test.values)"
   ]
  },
  {
   "cell_type": "code",
   "execution_count": 77,
   "metadata": {
    "tags": []
   },
   "outputs": [
    {
     "name": "stdout",
     "output_type": "stream",
     "text": [
      "0.8222222222222222\n",
      "0.8181818181818181\n"
     ]
    }
   ],
   "source": [
    "from sklearn.metrics import accuracy_score, f1_score\n",
    "\n",
    "print(accuracy_score(y_test, pat_cls.predictions))\n",
    "print(f1_score(y_test, pat_cls.predictions))"
   ]
  },
  {
   "cell_type": "code",
   "execution_count": 78,
   "metadata": {
    "tags": []
   },
   "outputs": [
    {
     "name": "stdout",
     "output_type": "stream",
     "text": [
      "Cross-validation accuracies: [0.9333333333333333, 0.7666666666666667, 0.9333333333333333, 0.9333333333333333, 0.9333333333333333]\n",
      "Average accuracy: 0.9000000000000001\n"
     ]
    }
   ],
   "source": [
    "from sklearn.model_selection import KFold\n",
    "import numpy as np\n",
    "\n",
    "def cross_validation_fca(model_class, context, labels, k=5, **model_kwargs):\n",
    "    kf = KFold(n_splits=k)\n",
    "    accuracies = []\n",
    "\n",
    "    for train_index, test_index in kf.split(context):\n",
    "        X_train, X_test = context[train_index], context[test_index]\n",
    "        y_train, y_test = labels[train_index], labels[test_index]\n",
    "        model = model_class(X_train, y_train, **model_kwargs)\n",
    "        model.predict(X_test) \n",
    "        predictions = model.predictions  \n",
    "        accuracy = np.mean(predictions == y_test)\n",
    "        accuracies.append(accuracy)\n",
    "\n",
    "    return accuracies\n",
    "\n",
    "accuracies = cross_validation_fca(fcalc.classifier.BinarizedBinaryClassifier, X.values, y.to_numpy(), k=5, alpha=0.1)\n",
    "print(\"Cross-validation accuracies:\", accuracies)\n",
    "print(\"Average accuracy:\", np.mean(accuracies))\n"
   ]
  },
  {
   "cell_type": "markdown",
   "metadata": {},
   "source": [
    "# Winequality"
   ]
  },
  {
   "cell_type": "code",
   "execution_count": 105,
   "metadata": {
    "tags": []
   },
   "outputs": [],
   "source": [
    "df = pd.read_csv('data_sets/winequality-red.csv')"
   ]
  },
  {
   "cell_type": "code",
   "execution_count": 106,
   "metadata": {
    "tags": []
   },
   "outputs": [],
   "source": [
    "df['quality'] = (df['quality'] >= 7).astype(bool)"
   ]
  },
  {
   "cell_type": "code",
   "execution_count": 107,
   "metadata": {
    "tags": []
   },
   "outputs": [],
   "source": [
    "X = df.iloc[:,:-1]\n",
    "y = df['quality']\n",
    "X_train, X_test, y_train, y_test = train_test_split(X, y, test_size=0.3, random_state=42)"
   ]
  },
  {
   "cell_type": "code",
   "execution_count": 108,
   "metadata": {
    "tags": []
   },
   "outputs": [],
   "source": [
    "pat_cls = fcalc.classifier.PatternBinaryClassifier(X_train.values, y_train.to_numpy())"
   ]
  },
  {
   "cell_type": "code",
   "execution_count": 109,
   "metadata": {
    "tags": []
   },
   "outputs": [],
   "source": [
    "pat_cls.predict(X_test.values)"
   ]
  },
  {
   "cell_type": "code",
   "execution_count": 110,
   "metadata": {
    "tags": []
   },
   "outputs": [
    {
     "name": "stdout",
     "output_type": "stream",
     "text": [
      "accuracy: 0.8729\n",
      "f1 score: 0.8708\n"
     ]
    }
   ],
   "source": [
    "print(\"accuracy:\", round(accuracy_score(y_test, pat_cls.predictions), 4))\n",
    "print(\"f1 score:\", round(f1_score(y_test, pat_cls.predictions, average='weighted'), 4))"
   ]
  },
  {
   "cell_type": "code",
   "execution_count": 111,
   "metadata": {
    "tags": []
   },
   "outputs": [
    {
     "name": "stdout",
     "output_type": "stream",
     "text": [
      "Cross-validation accuracies: [0.8375, 0.715625, 0.809375, 0.653125, 0.7429467084639498]\n",
      "Average accuracy: 0.75171434169279\n"
     ]
    }
   ],
   "source": [
    "from sklearn.model_selection import KFold\n",
    "import numpy as np\n",
    "\n",
    "def cross_validation_fca(model_class, context, labels, k=5, **model_kwargs):\n",
    "    kf = KFold(n_splits=k)\n",
    "    accuracies = []\n",
    "\n",
    "    for train_index, test_index in kf.split(context):\n",
    "        X_train, X_test = context[train_index], context[test_index]\n",
    "        y_train, y_test = labels[train_index], labels[test_index]\n",
    "        model = model_class(X_train, y_train, **model_kwargs)\n",
    "        model.predict(X_test) \n",
    "        predictions = model.predictions  \n",
    "        accuracy = np.mean(predictions == y_test)\n",
    "        accuracies.append(accuracy)\n",
    "\n",
    "    return accuracies\n",
    "\n",
    "accuracies = cross_validation_fca(fcalc.classifier.PatternBinaryClassifier, X.values, y.to_numpy(), k=5, alpha=0.001)\n",
    "print(\"Cross-validation accuracies:\", accuracies)\n",
    "print(\"Average accuracy:\", np.mean(accuracies))\n"
   ]
  },
  {
   "cell_type": "markdown",
   "metadata": {},
   "source": [
    "# Diabetes"
   ]
  },
  {
   "cell_type": "code",
   "execution_count": 92,
   "metadata": {
    "tags": []
   },
   "outputs": [],
   "source": [
    "df = pd.read_csv('data_sets/diabetes.csv')"
   ]
  },
  {
   "cell_type": "code",
   "execution_count": 94,
   "metadata": {
    "tags": []
   },
   "outputs": [],
   "source": [
    "df['Outcome'] = df['Outcome'].astype(bool)"
   ]
  },
  {
   "cell_type": "code",
   "execution_count": 98,
   "metadata": {
    "tags": []
   },
   "outputs": [],
   "source": [
    "X = df.iloc[:, :-1]\n",
    "y = df['Outcome']\n",
    "X_train, X_test, y_train, y_test = train_test_split(X, y, test_size=0.3, random_state=42)"
   ]
  },
  {
   "cell_type": "code",
   "execution_count": 99,
   "metadata": {
    "tags": []
   },
   "outputs": [],
   "source": [
    "pat_cls = fcalc.classifier.PatternBinaryClassifier(X_train.values, y_train.to_numpy())"
   ]
  },
  {
   "cell_type": "code",
   "execution_count": 100,
   "metadata": {
    "tags": []
   },
   "outputs": [],
   "source": [
    "pat_cls.predict(X_test.values)"
   ]
  },
  {
   "cell_type": "code",
   "execution_count": 101,
   "metadata": {
    "tags": []
   },
   "outputs": [
    {
     "name": "stdout",
     "output_type": "stream",
     "text": [
      "accuracy: 0.697\n",
      "f1 score: 0.7023\n"
     ]
    }
   ],
   "source": [
    "print(\"accuracy:\", round(accuracy_score(y_test, pat_cls.predictions), 4))\n",
    "print(\"f1 score:\", round(f1_score(y_test, pat_cls.predictions, average='weighted'), 4))"
   ]
  },
  {
   "cell_type": "code",
   "execution_count": 104,
   "metadata": {
    "tags": []
   },
   "outputs": [
    {
     "name": "stdout",
     "output_type": "stream",
     "text": [
      "Cross-validation accuracies: [0.7597402597402597, 0.6883116883116883, 0.7792207792207793, 0.8235294117647058, 0.7908496732026143]\n",
      "Average accuracy: 0.7683303624480095\n"
     ]
    }
   ],
   "source": [
    "from sklearn.model_selection import KFold\n",
    "import numpy as np\n",
    "\n",
    "def cross_validation_fca(model_class, context, labels, k=5, **model_kwargs):\n",
    "    kf = KFold(n_splits=k)\n",
    "    accuracies = []\n",
    "\n",
    "    for train_index, test_index in kf.split(context):\n",
    "        X_train, X_test = context[train_index], context[test_index]\n",
    "        y_train, y_test = labels[train_index], labels[test_index]\n",
    "        model = model_class(X_train, y_train, **model_kwargs)\n",
    "        model.predict(X_test) \n",
    "        predictions = model.predictions  \n",
    "        accuracy = np.mean(predictions == y_test)\n",
    "        accuracies.append(accuracy)\n",
    "\n",
    "    return accuracies\n",
    "\n",
    "accuracies = cross_validation_fca(fcalc.classifier.PatternBinaryClassifier, X.values, y.to_numpy(), k=5, alpha=0.001)\n",
    "print(\"Cross-validation accuracies:\", accuracies)\n",
    "print(\"Average accuracy:\", np.mean(accuracies))\n"
   ]
  },
  {
   "cell_type": "code",
   "execution_count": null,
   "metadata": {},
   "outputs": [],
   "source": []
  }
 ],
 "metadata": {
  "kernelspec": {
   "display_name": "Python 3 (ipykernel)",
   "language": "python",
   "name": "python3"
  },
  "language_info": {
   "codemirror_mode": {
    "name": "ipython",
    "version": 3
   },
   "file_extension": ".py",
   "mimetype": "text/x-python",
   "name": "python",
   "nbconvert_exporter": "python",
   "pygments_lexer": "ipython3",
   "version": "3.11.5"
  }
 },
 "nbformat": 4,
 "nbformat_minor": 4
}
